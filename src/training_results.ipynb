{
 "cells": [
  {
   "cell_type": "code",
   "execution_count": 31,
   "id": "d747a340",
   "metadata": {},
   "outputs": [],
   "source": [
    "import sys\n",
    "import tensorflow as tf\n",
    "import tensorflow_addons as tfa\n",
    "import tensorflow_datasets as tfds\n",
    "from zipfile import ZipFile\n",
    "import os\n",
    "import json\n",
    "import numpy as np\n",
    "import matplotlib.pyplot as plt\n",
    "import bfseg.models.fast_scnn\n",
    "import bfseg.data.hive.office_rumlang_validation_labeled\n",
    "import bfseg.data.hive.bfseg_validation_labeled\n",
    "from bfseg.utils.utils import load_gdrive_file\n",
    "from bfseg.utils.metrics import IgnorantAccuracyMetric, IgnorantBalancedAccuracyMetric, IgnorantMeanIoU\n",
    "#from bfseg.settings import TMPDIR\n",
    "TMPDIR = \"/home/matthias/data/rss_2021_data/tmp/\"\n",
    "MASKPATH = \"/home/matthias/data/rss_2021_data/mask.png\"\n",
    "base_directory = '/home/matthias/data/rss_2021_data/final_models/'"
   ]
  },
  {
   "cell_type": "code",
   "execution_count": 2,
   "id": "5039dfe4",
   "metadata": {},
   "outputs": [
    {
     "data": {
      "image/png": "[encoded data removed]",
      "text/plain": [
       "<Figure size 432x288 with 1 Axes>"
      ]
     },
     "metadata": {
      "needs_background": "light"
     },
     "output_type": "display_data"
    }
   ],
   "source": [
    "# Load mask\n",
    "mask = plt.imread(MASKPATH)\n",
    "ax = plt.subplot()\n",
    "ax.imshow(mask)\n",
    "mask_filtered = np.nonzero(mask)\n",
    "test = mask[mask_filtered]"
   ]
  },
  {
   "cell_type": "code",
   "execution_count": 3,
   "id": "3196b35f",
   "metadata": {},
   "outputs": [],
   "source": [
    "val_ds_office_gt = tfds.load('office_rumlang_validation_labeled', split='OFFICE')"
   ]
  },
  {
   "cell_type": "markdown",
   "id": "0e0189fa",
   "metadata": {},
   "source": [
    "# Single Task"
   ]
  },
  {
   "cell_type": "code",
   "execution_count": 83,
   "id": "1f40c38e",
   "metadata": {},
   "outputs": [
    {
     "name": "stdout",
     "output_type": "stream",
     "text": [
      "WARNING:tensorflow:No training configuration found in the save file, so the model was *not* compiled. Compile it manually.\n"
     ]
    },
    {
     "name": "stderr",
     "output_type": "stream",
     "text": [
      "WARNING:tensorflow:No training configuration found in the save file, so the model was *not* compiled. Compile it manually.\n"
     ]
    }
   ],
   "source": [
    "# Pretraining NYU\n",
    "#model0 = tf.keras.models.load_model(os.path.join(base_directory, 'nyu_pretraining_10/model_epoch_10.h5'))\n",
    "# Finetuning Sparse\n",
    "#model0 = tf.keras.models.load_model(os.path.join(base_directory, 'office3_sparse50_dyn_cam2_finetuning_10/model_epoch_10.h5'))\n",
    "# Finetuning Dense\n",
    "#model0 = tf.keras.models.load_model(os.path.join(base_directory, 'office3_dense20_dyn_cam2_finetuning_05/model_epoch_5.h5'))\n",
    "# Finetuning Combined\n",
    "model0 = tf.keras.models.load_model(os.path.join(base_directory, 'office3_combined2050_dyn_cam2_finetuning_06/model_epoch_6.h5'))"
   ]
  },
  {
   "cell_type": "code",
   "execution_count": 84,
   "id": "de4ad5cb",
   "metadata": {},
   "outputs": [
    {
     "name": "stdout",
     "output_type": "stream",
     "text": [
      "With mask: mIoU: 0.5270905494689941, acc: 0.6995412707328796, bacc: 0.7174856066703796\n",
      "Without mask: mIoU: 0.5491838455200195, acc: 0.7103727459907532, bacc: 0.7356137633323669\n"
     ]
    }
   ],
   "source": [
    "miou = tf.keras.metrics.MeanIoU(num_classes=2)\n",
    "acc = tf.keras.metrics.Accuracy()\n",
    "bacc = IgnorantBalancedAccuracyMetric(class_to_ignore=2, num_classes=2)\n",
    "#miou2 = IgnorantMeanIoU(class_to_ignore=None, num_classes=2)\n",
    "for batch in val_ds_office_gt.batch(1):\n",
    "    a = tf.image.convert_image_dtype(batch['image'], tf.float32)\n",
    "    b = model0(a)[1]\n",
    "    pred = tf.argmax(b, axis=-1)\n",
    "    expanded_mask = tf.expand_dims(mask, -1)\n",
    "    expanded_mask = tf.expand_dims(expanded_mask, 0)\n",
    "    masked_labels = tf.where(expanded_mask==1, batch['label'], tf.constant(2, dtype=tf.uint8))\n",
    "    miou.update_state(batch['label'], pred, mask)\n",
    "    acc.update_state(batch['label'], pred, tf.expand_dims(mask,0))\n",
    "    bacc.update_state(masked_labels, b)\n",
    "print(\"With mask: mIoU: {}, acc: {}, bacc: {}\".format(miou.result(), acc.result(), bacc.result()))\n",
    "\n",
    "miou = tf.keras.metrics.MeanIoU(num_classes=2)\n",
    "acc = tf.keras.metrics.Accuracy()\n",
    "bacc = IgnorantBalancedAccuracyMetric(class_to_ignore=None, num_classes=2)\n",
    "for batch in val_ds_office_gt.batch(1):\n",
    "    a = tf.image.convert_image_dtype(batch['image'], tf.float32)\n",
    "    b = model0(a)[1]\n",
    "    pred = tf.argmax(b, axis=-1)\n",
    "    miou.update_state(batch['label'], pred)\n",
    "    acc.update_state(batch['label'], pred)\n",
    "    bacc.update_state(batch['label'], b)\n",
    "    #miou2.update_state(batch['label'], b)\n",
    "print(\"Without mask: mIoU: {}, acc: {}, bacc: {}\".format(miou.result(), acc.result(), bacc.result(), miou2.result()))"
   ]
  },
  {
   "cell_type": "markdown",
   "id": "2223bf2a",
   "metadata": {},
   "source": [
    "# Multi-Task (with depth)"
   ]
  },
  {
   "cell_type": "code",
   "execution_count": 108,
   "id": "ae1fc39e",
   "metadata": {},
   "outputs": [
    {
     "name": "stdout",
     "output_type": "stream",
     "text": [
      "WARNING:tensorflow:No training configuration found in the save file, so the model was *not* compiled. Compile it manually.\n"
     ]
    },
    {
     "name": "stderr",
     "output_type": "stream",
     "text": [
      "WARNING:tensorflow:No training configuration found in the save file, so the model was *not* compiled. Compile it manually.\n"
     ]
    }
   ],
   "source": [
    "# Pretraining power + std\n",
    "#model0 = tf.keras.models.load_model(os.path.join(base_directory, 'nyu_depth_pretraining_power_std_65/model_epoch_65.h5'))\n",
    "# Pretraining power + median\n",
    "#model0 = tf.keras.models.load_model(os.path.join(base_directory, 'nyu_depth_pretraining_power_median_55/model_epoch_55.h5'))\n",
    "# Pretraining inverse + std\n",
    "#model0 = tf.keras.models.load_model(os.path.join(base_directory, 'nyu_depth_pretraining_inverse_std_25/model_epoch_25.h5'))\n",
    "# Pretraining inverse + median\n",
    "#model0 = tf.keras.models.load_model(os.path.join(base_directory, 'nyu_depth_pretraining_inverse_median_45/model_epoch_45.h5'))\n",
    "# Pretraining power + std (no consistency)\n",
    "#model0 = tf.keras.models.load_model(os.path.join(base_directory, 'nyu_depth_pretraining_power_std_nocons_40/model_epoch_40.h5'))\n",
    "# Pretraining power + std (no depth)\n",
    "#model0 = tf.keras.models.load_model(os.path.join(base_directory, 'nyu_depth_pretraining_power_std_nodepth_25/model_epoch_25.h5'))\n",
    "# Pretraining DORN\n",
    "#model0 = tf.keras.models.load_model(os.path.join(base_directory, 'nyu_dorn_pretraining_60/model_epoch_60.h5'))\n",
    "\n",
    "# Finetuning power + std\n",
    "model0 = tf.keras.models.load_model(os.path.join(base_directory, 'office3_densedepth20_dyn_cam2_finetuning_power_std_06/model_epoch_6.h5'))\n",
    "# Finetuning power + median\n",
    "#model0 = tf.keras.models.load_model(os.path.join(base_directory, 'office3_densedepth20_dyn_cam2_finetuning_power_median_00/model_epoch_0.h5'))\n",
    "# Finetuning inverse + std\n",
    "#model0 = tf.keras.models.load_model(os.path.join(base_directory, 'office3_densedepth20_dyn_cam2_finetuning_inverse_std_15/model_epoch_15.h5'))\n",
    "# Finetuning inverse + median\n",
    "#model0 = tf.keras.models.load_model(os.path.join(base_directory, 'office3_densedepth20_dyn_cam2_finetuning_inverse_median_15/model_epoch_15.h5'))\n",
    "# Finetuning power + std (no consistency)\n",
    "#model0 = tf.keras.models.load_model(os.path.join(base_directory, 'office3_densedepth20_dyn_cam2_finetuning_power_std_nocons_10/model_epoch_10.h5'))\n",
    "# Finetuning power + std (no depth)\n",
    "#model0 = tf.keras.models.load_model(os.path.join(base_directory, 'office3_densedepth20_dyn_cam2_finetuning_power_std_nodepth_04/model_epoch_4.h5'))\n",
    "# Finetuning DORN\n",
    "#model0 = tf.keras.models.load_model(os.path.join(base_directory, 'office3_densedepth20_dyn_cam2_finetuning_dorn_03/model_epoch_3.h5'))"
   ]
  },
  {
   "cell_type": "code",
   "execution_count": 109,
   "id": "a5221e2f",
   "metadata": {},
   "outputs": [
    {
     "name": "stdout",
     "output_type": "stream",
     "text": [
      "With mask: mIoU: 0.5211955308914185, acc: 0.705742359161377, bacc: 0.6738595962524414\n",
      "Without mask: mIoU: 0.546749472618103, acc: 0.7120764255523682, bacc: 0.7186862826347351\n"
     ]
    }
   ],
   "source": [
    "miou = tf.keras.metrics.MeanIoU(num_classes=2)\n",
    "acc = tf.keras.metrics.Accuracy()\n",
    "bacc = IgnorantBalancedAccuracyMetric(class_to_ignore=2, num_classes=2)\n",
    "#miou2 = IgnorantMeanIoU(class_to_ignore=None, num_classes=2)\n",
    "for batch in val_ds_office_gt.batch(1):\n",
    "    a = tf.image.convert_image_dtype(batch['image'], tf.float32)\n",
    "    b = model0(a)[1][0]\n",
    "    pred = tf.argmax(b, axis=-1)\n",
    "    expanded_mask = tf.expand_dims(mask, -1)\n",
    "    expanded_mask = tf.expand_dims(expanded_mask, 0)\n",
    "    masked_labels = tf.where(expanded_mask==1, batch['label'], tf.constant(2, dtype=tf.uint8))\n",
    "    miou.update_state(batch['label'], pred, mask)\n",
    "    acc.update_state(batch['label'], pred, tf.expand_dims(mask,0))\n",
    "    bacc.update_state(masked_labels, b)\n",
    "print(\"With mask: mIoU: {}, acc: {}, bacc: {}\".format(miou.result(), acc.result(), bacc.result()))\n",
    "\n",
    "miou = tf.keras.metrics.MeanIoU(num_classes=2)\n",
    "acc = tf.keras.metrics.Accuracy()\n",
    "bacc = IgnorantBalancedAccuracyMetric(class_to_ignore=None, num_classes=2)\n",
    "for batch in val_ds_office_gt.batch(1):\n",
    "    a = tf.image.convert_image_dtype(batch['image'], tf.float32)\n",
    "    b = model0(a)[1][0]\n",
    "    pred = tf.argmax(b, axis=-1)\n",
    "    miou.update_state(batch['label'], pred)\n",
    "    acc.update_state(batch['label'], pred)\n",
    "    bacc.update_state(batch['label'], b)\n",
    "    #miou2.update_state(batch['label'], b)\n",
    "print(\"Without mask: mIoU: {}, acc: {}, bacc: {}\".format(miou.result(), acc.result(), bacc.result(), miou2.result()))"
   ]
  }
 ],
 "metadata": {
  "kernelspec": {
   "display_name": "Python 3.6.13 64-bit ('bfs1': conda)",
   "language": "python",
   "name": "python3613jvsc74a57bd0d25eef4d1e8f8ed5f371977720fb34916b8ebf1e4020a826952d38cdb641a52a"
  },
  "language_info": {
   "codemirror_mode": {
    "name": "ipython",
    "version": 3
   },
   "file_extension": ".py",
   "mimetype": "text/x-python",
   "name": "python",
   "nbconvert_exporter": "python",
   "pygments_lexer": "ipython3",
   "version": "3.6.13"
  }
 },
 "nbformat": 4,
 "nbformat_minor": 5
}
