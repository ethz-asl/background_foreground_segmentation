{
 "cells": [
  {
   "cell_type": "code",
   "execution_count": 1,
   "id": "antique-component",
   "metadata": {},
   "outputs": [
    {
     "name": "stdout",
     "output_type": "stream",
     "text": [
      "Segmentation Models: using `tf.keras` framework.\n"
     ]
    }
   ],
   "source": [
    "from matplotlib import pyplot as plt\n",
    "from sacred import Experiment\n",
    "import tensorflow as tf\n",
    "\n",
    "from bfseg.cl_models import BaseCLModel\n",
    "from bfseg.utils.datasets import load_data\n",
    "from bfseg.utils.images import augmentation\n",
    "from bfseg.utils.losses import IgnorantCrossEntropyLoss\n",
    "from bfseg.utils.models import create_model\n",
    "\n",
    "ex = Experiment('jupyter_ex', interactive=True)\n",
    "\n",
    "@ex.config\n",
    "def default_config():\n",
    "  r\"\"\"Default configuration for fine-tuning experiment on NYU with U-Net.\n",
    "  \"\"\"\n",
    "  # Network parameters.\n",
    "  network_params = {\n",
    "      'architecture': 'fast_scnn',\n",
    "      'freeze_encoder': False,\n",
    "      'freeze_whole_model': False,\n",
    "      'normalization_type': \"group\",\n",
    "      'model_params': {\n",
    "          'image_h': 480,\n",
    "          'image_w': 640\n",
    "      }\n",
    "  }\n",
    "\n",
    "  # Training parameters.\n",
    "  training_params = {\n",
    "      'batch_size': 8,\n",
    "      'learning_rate': 1e-4,\n",
    "      'num_training_epochs': 1,\n",
    "      'stopping_patience': 100\n",
    "  }\n",
    "\n",
    "  # Dataset parameters.\n",
    "  dataset_params = {\n",
    "      'test_dataset': \"NyuDepthV2Labeled\",\n",
    "      'test_scene': None,\n",
    "      'train_dataset': \"BfsegCLAMeshdistLabels\",\n",
    "      'train_scene': None,\n",
    "      'validation_percentage': 20\n",
    "  }\n",
    "\n",
    "  # Logging parameters.\n",
    "  logging_params = {\n",
    "      'model_save_freq': 1,\n",
    "      'exp_name': \"exp_stage1\"\n",
    "  }\n",
    "\n",
    "  # CL parameters.\n",
    "  cl_params = {'cl_framework': \"finetune\", 'pretrained_dir': None}\n",
    "\n",
    "def main():\n",
    "    model = BaseCLModel(ex.current_run, '/home/fmilano/tmp')\n",
    "\n",
    "    batch_size = 8\n",
    "\n",
    "    train_ds = load_data(dataset_name='BfsegCLAMeshdistLabels',\n",
    "                         scene_type=None,\n",
    "                         fraction=\"[:5%]\",\n",
    "                         batch_size=batch_size,\n",
    "                         shuffle_data=False)\n",
    "\n",
    "    model.compile(optimizer=tf.keras.optimizers.Adam(1e-4),\n",
    "                  loss = IgnorantCrossEntropyLoss(class_to_ignore=2,\n",
    "                                                  num_classes=3,\n",
    "                                                  from_logits=True))\n",
    "    model.fit(train_ds.map(augmentation), epochs=1)\n",
    "    \n",
    "    return model"
   ]
  },
  {
   "cell_type": "code",
   "execution_count": 2,
   "id": "radio-premises",
   "metadata": {},
   "outputs": [
    {
     "data": {
      "text/plain": [
       "<function __main__.main()>"
      ]
     },
     "execution_count": 2,
     "metadata": {},
     "output_type": "execute_result"
    }
   ],
   "source": [
    "ex.main(main)"
   ]
  },
  {
   "cell_type": "code",
   "execution_count": 3,
   "id": "responsible-idaho",
   "metadata": {},
   "outputs": [],
   "source": [
    "batch_size = 8\n",
    "\n",
    "train_ds = load_data(dataset_name='BfsegCLAMeshdistLabels',\n",
    "     scene_type=None,\n",
    "     fraction=\"[:5%]\",\n",
    "     batch_size=batch_size,\n",
    "     shuffle_data=False)\n",
    "\n",
    "for sample_1 in train_ds.take(1):\n",
    "    break\n",
    "    \n",
    "for sample_2 in train_ds.unbatch().map(augmentation).batch(batch_size).take(1):\n",
    "    break"
   ]
  },
  {
   "cell_type": "code",
   "execution_count": 4,
   "id": "rational-reset",
   "metadata": {},
   "outputs": [
    {
     "data": {
      "text/plain": [
       "TensorShape([8, 480, 640])"
      ]
     },
     "execution_count": 4,
     "metadata": {},
     "output_type": "execute_result"
    }
   ],
   "source": [
    "sample_1[2].shape"
   ]
  },
  {
   "cell_type": "code",
   "execution_count": 5,
   "id": "expensive-belief",
   "metadata": {},
   "outputs": [
    {
     "data": {
      "text/plain": [
       "TensorShape([8, 480, 640])"
      ]
     },
     "execution_count": 5,
     "metadata": {},
     "output_type": "execute_result"
    }
   ],
   "source": [
    "sample_2[2].shape"
   ]
  },
  {
   "cell_type": "code",
   "execution_count": 6,
   "id": "indian-marine",
   "metadata": {},
   "outputs": [],
   "source": [
    "total_len = sum(a[0].shape[0] for a in train_ds)"
   ]
  },
  {
   "cell_type": "code",
   "execution_count": 7,
   "id": "controlling-domain",
   "metadata": {},
   "outputs": [
    {
     "data": {
      "text/plain": [
       "135"
      ]
     },
     "execution_count": 7,
     "metadata": {},
     "output_type": "execute_result"
    }
   ],
   "source": [
    "total_len"
   ]
  },
  {
   "cell_type": "code",
   "execution_count": 8,
   "id": "fixed-effects",
   "metadata": {},
   "outputs": [],
   "source": [
    "import numpy as np"
   ]
  },
  {
   "cell_type": "code",
   "execution_count": 9,
   "id": "dated-metro",
   "metadata": {},
   "outputs": [
    {
     "name": "stdout",
     "output_type": "stream",
     "text": [
      "0\n",
      "(5, 480, 640, 3)\n",
      "1\n",
      "(5, 480, 640, 3)\n",
      "2\n",
      "(5, 480, 640, 3)\n"
     ]
    }
   ],
   "source": [
    "for i, s in enumerate(train_ds.unbatch().shuffle(total_len).batch(5).take(3)):\n",
    "    print(i)\n",
    "    print(s[0].shape)"
   ]
  },
  {
   "cell_type": "code",
   "execution_count": 10,
   "id": "balanced-caution",
   "metadata": {},
   "outputs": [
    {
     "name": "stdout",
     "output_type": "stream",
     "text": [
      "0\n",
      "(1, 480, 640, 3)\n",
      "1\n",
      "(1, 480, 640, 3)\n",
      "2\n",
      "(1, 480, 640, 3)\n"
     ]
    }
   ],
   "source": [
    "app_ds = train_ds.unbatch().batch(1).take(3)\n",
    "for i, s in enumerate(app_ds):\n",
    "    print(i)\n",
    "    print(s[0].shape)"
   ]
  },
  {
   "cell_type": "code",
   "execution_count": 11,
   "id": "normal-probe",
   "metadata": {},
   "outputs": [],
   "source": [
    "app_ds_1 = train_ds.unbatch().shuffle(total_len).batch(3).take(5)\n",
    "app_ds_2 = train_ds.unbatch().shuffle(total_len).batch(2).take(5)"
   ]
  },
  {
   "cell_type": "code",
   "execution_count": 12,
   "id": "finite-villa",
   "metadata": {},
   "outputs": [
    {
     "data": {
      "text/plain": [
       "<TakeDataset shapes: ((None, 480, 640, 3), (None, 480, 640, 1), (None, 480, 640)), types: (tf.float32, tf.uint8, tf.bool)>"
      ]
     },
     "execution_count": 12,
     "metadata": {},
     "output_type": "execute_result"
    }
   ],
   "source": [
    "app_ds_1"
   ]
  },
  {
   "cell_type": "code",
   "execution_count": 13,
   "id": "interim-fence",
   "metadata": {},
   "outputs": [],
   "source": [
    "for s_1 in app_ds_1.take(1):\n",
    "    break\n",
    "for s_2 in app_ds_2.take(1):\n",
    "    break"
   ]
  },
  {
   "cell_type": "code",
   "execution_count": 14,
   "id": "sophisticated-member",
   "metadata": {},
   "outputs": [
    {
     "data": {
      "text/plain": [
       "tf.float32"
      ]
     },
     "execution_count": 14,
     "metadata": {},
     "output_type": "execute_result"
    }
   ],
   "source": [
    "s_2[0].dtype"
   ]
  },
  {
   "cell_type": "code",
   "execution_count": 15,
   "id": "coated-float",
   "metadata": {},
   "outputs": [
    {
     "data": {
      "text/plain": [
       "<tf.Tensor: shape=(5, 480, 640, 3), dtype=float32, numpy=\n",
       "array([[[[0.16462524, 0.15694037, 0.16517109],\n",
       "         [0.16469373, 0.15739992, 0.16052428],\n",
       "         [0.16899016, 0.16400999, 0.14731735],\n",
       "         ...,\n",
       "         [0.37104237, 0.37542456, 0.31680372],\n",
       "         [0.36108556, 0.36530396, 0.34727114],\n",
       "         [0.34878522, 0.3647805 , 0.3870189 ]],\n",
       "\n",
       "        [[0.16040283, 0.16194853, 0.19108596],\n",
       "         [0.15273869, 0.1623808 , 0.18160787],\n",
       "         [0.14946257, 0.1681771 , 0.13946353],\n",
       "         ...,\n",
       "         [0.35197255, 0.36036327, 0.3393286 ],\n",
       "         [0.34178394, 0.3602777 , 0.36260355],\n",
       "         [0.32739463, 0.3670954 , 0.36469224]],\n",
       "\n",
       "        [[0.15642083, 0.17886262, 0.17378521],\n",
       "         [0.15392436, 0.18007231, 0.17385246],\n",
       "         [0.15694365, 0.1800573 , 0.14592718],\n",
       "         ...,\n",
       "         [0.3315354 , 0.3418717 , 0.38570535],\n",
       "         [0.34238204, 0.35190925, 0.35740498],\n",
       "         [0.35389078, 0.34410217, 0.3687146 ]],\n",
       "\n",
       "        ...,\n",
       "\n",
       "        [[0.24809273, 0.19964544, 0.1981309 ],\n",
       "         [0.23995864, 0.22212309, 0.22209713],\n",
       "         [0.21402274, 0.24306007, 0.2348873 ],\n",
       "         ...,\n",
       "         [0.19164477, 0.19845787, 0.212661  ],\n",
       "         [0.2009718 , 0.19553201, 0.19303137],\n",
       "         [0.1973674 , 0.18144444, 0.16291161]],\n",
       "\n",
       "        [[0.22470155, 0.22237551, 0.2486285 ],\n",
       "         [0.21200264, 0.23424508, 0.28087378],\n",
       "         [0.19177124, 0.22859271, 0.2491738 ],\n",
       "         ...,\n",
       "         [0.2073173 , 0.19887386, 0.17669727],\n",
       "         [0.20409678, 0.2101984 , 0.18441549],\n",
       "         [0.21454315, 0.20630315, 0.18656942]],\n",
       "\n",
       "        [[0.21953084, 0.21577111, 0.25853172],\n",
       "         [0.21173742, 0.21267208, 0.24939075],\n",
       "         [0.21209498, 0.2197632 , 0.21101896],\n",
       "         ...,\n",
       "         [0.20747536, 0.18844557, 0.18299432],\n",
       "         [0.20415136, 0.20316236, 0.17706728],\n",
       "         [0.19284357, 0.21907607, 0.18423973]]],\n",
       "\n",
       "\n",
       "       [[[0.11773184, 0.09847838, 0.11372449],\n",
       "         [0.12139501, 0.10632558, 0.09372155],\n",
       "         [0.12015622, 0.11363563, 0.08758177],\n",
       "         ...,\n",
       "         [0.20565782, 0.21595079, 0.19987604],\n",
       "         [0.20782804, 0.1936593 , 0.21063335],\n",
       "         [0.21961106, 0.18832207, 0.22316095]],\n",
       "\n",
       "        [[0.11755822, 0.11016545, 0.1318626 ],\n",
       "         [0.11395539, 0.10299645, 0.10085496],\n",
       "         [0.11628045, 0.10980393, 0.06791112],\n",
       "         ...,\n",
       "         [0.20460825, 0.20852646, 0.1968686 ],\n",
       "         [0.21935108, 0.18983692, 0.18579356],\n",
       "         [0.23191498, 0.18876842, 0.21935397]],\n",
       "\n",
       "        [[0.11844673, 0.11835788, 0.12203834],\n",
       "         [0.11387776, 0.11022273, 0.11974868],\n",
       "         [0.10980393, 0.10985483, 0.07432662],\n",
       "         ...,\n",
       "         [0.21535918, 0.21017094, 0.18359487],\n",
       "         [0.23081736, 0.19252914, 0.1954622 ],\n",
       "         [0.2420027 , 0.19553013, 0.22455491]],\n",
       "\n",
       "        ...,\n",
       "\n",
       "        [[0.23103753, 0.21780306, 0.24485083],\n",
       "         [0.21669868, 0.21324962, 0.2262406 ],\n",
       "         [0.21914855, 0.22839037, 0.21314262],\n",
       "         ...,\n",
       "         [0.3318618 , 0.28277707, 0.289618  ],\n",
       "         [0.3212254 , 0.2623936 , 0.2962807 ],\n",
       "         [0.30708525, 0.27596185, 0.3102661 ]],\n",
       "\n",
       "        [[0.22379604, 0.20829357, 0.22428317],\n",
       "         [0.21205269, 0.20577525, 0.1861921 ],\n",
       "         [0.21277876, 0.22386014, 0.17450093],\n",
       "         ...,\n",
       "         [0.30655396, 0.30159274, 0.2710174 ],\n",
       "         [0.310438  , 0.28208548, 0.29966986],\n",
       "         [0.298851  , 0.27465078, 0.32059148]],\n",
       "\n",
       "        [[0.22343652, 0.20026454, 0.19607955],\n",
       "         [0.21968853, 0.20551474, 0.16922906],\n",
       "         [0.2241381 , 0.22822924, 0.17427509],\n",
       "         ...,\n",
       "         [0.28842962, 0.30877644, 0.2692657 ],\n",
       "         [0.2832363 , 0.29849115, 0.29268682],\n",
       "         [0.28271857, 0.28252435, 0.3097163 ]]],\n",
       "\n",
       "\n",
       "       [[[0.3493281 , 0.3953841 , 0.33226955],\n",
       "         [0.34101573, 0.37963974, 0.3895778 ],\n",
       "         [0.3387374 , 0.37465826, 0.4240284 ],\n",
       "         ...,\n",
       "         [0.11314339, 0.10936444, 0.17100519],\n",
       "         [0.10980393, 0.10613177, 0.1506804 ],\n",
       "         [0.11697927, 0.11369912, 0.14242972]],\n",
       "\n",
       "        [[0.35986805, 0.3984034 , 0.33053342],\n",
       "         [0.35076964, 0.37953013, 0.3605731 ],\n",
       "         [0.35589454, 0.36810663, 0.41692406],\n",
       "         ...,\n",
       "         [0.11472533, 0.11204562, 0.15655857],\n",
       "         [0.11331017, 0.11156026, 0.14558637],\n",
       "         [0.12099888, 0.12266231, 0.15227339]],\n",
       "\n",
       "        [[0.35886946, 0.38570127, 0.39608794],\n",
       "         [0.3545794 , 0.37146142, 0.37851042],\n",
       "         [0.35555732, 0.35352328, 0.39105108],\n",
       "         ...,\n",
       "         [0.12052713, 0.11803178, 0.13660626],\n",
       "         [0.1268365 , 0.12166789, 0.13529435],\n",
       "         [0.13448298, 0.12888658, 0.1438992 ]],\n",
       "\n",
       "        ...,\n",
       "\n",
       "        [[0.03142127, 0.03122994, 0.02855368],\n",
       "         [0.03294645, 0.0291238 , 0.02869983],\n",
       "         [0.0356226 , 0.02816406, 0.03008239],\n",
       "         ...,\n",
       "         [0.24586365, 0.23027489, 0.21150742],\n",
       "         [0.24082585, 0.22735184, 0.25260526],\n",
       "         [0.21811914, 0.21654539, 0.28809178]],\n",
       "\n",
       "        [[0.03729164, 0.03137255, 0.02402618],\n",
       "         [0.03772243, 0.03037071, 0.03036478],\n",
       "         [0.0346292 , 0.02620908, 0.03495424],\n",
       "         ...,\n",
       "         [0.23410831, 0.23281546, 0.18249944],\n",
       "         [0.24115883, 0.24105805, 0.20016411],\n",
       "         [0.23762175, 0.2312718 , 0.23501487]],\n",
       "\n",
       "        [[0.03593441, 0.03137255, 0.03495745],\n",
       "         [0.03729755, 0.03128701, 0.04221823],\n",
       "         [0.03003768, 0.03089512, 0.04413728],\n",
       "         ...,\n",
       "         [0.22672105, 0.23200439, 0.1912798 ],\n",
       "         [0.2213604 , 0.24680984, 0.18731187],\n",
       "         [0.23802361, 0.25628915, 0.1939959 ]]],\n",
       "\n",
       "\n",
       "       [[[0.1989389 , 0.19510312, 0.12576999],\n",
       "         [0.18726815, 0.18351714, 0.12596706],\n",
       "         [0.17559229, 0.17543292, 0.12566513],\n",
       "         ...,\n",
       "         [0.28983155, 0.2812356 , 0.31180805],\n",
       "         [0.2975963 , 0.27128538, 0.3258503 ],\n",
       "         [0.30143484, 0.27433112, 0.35679975]],\n",
       "\n",
       "        [[0.16424024, 0.16380516, 0.13849574],\n",
       "         [0.17883256, 0.1712407 , 0.15787701],\n",
       "         [0.1756093 , 0.16859356, 0.16732192],\n",
       "         ...,\n",
       "         [0.29487738, 0.2716547 , 0.36063668],\n",
       "         [0.30178916, 0.26820785, 0.3849511 ],\n",
       "         [0.28280306, 0.27158397, 0.3809343 ]],\n",
       "\n",
       "        [[0.1535275 , 0.14870724, 0.15151252],\n",
       "         [0.1599999 , 0.15488255, 0.16197965],\n",
       "         [0.16901058, 0.1599212 , 0.1605705 ],\n",
       "         ...,\n",
       "         [0.31625324, 0.2761087 , 0.37349656],\n",
       "         [0.30745816, 0.28814086, 0.3609429 ],\n",
       "         [0.28290612, 0.2889706 , 0.3365696 ]],\n",
       "\n",
       "        ...,\n",
       "\n",
       "        [[0.43321776, 0.4063734 , 0.5893953 ],\n",
       "         [0.43724328, 0.4159756 , 0.5788085 ],\n",
       "         [0.46629408, 0.42876863, 0.5376766 ],\n",
       "         ...,\n",
       "         [0.6798101 , 0.3629508 , 0.2627495 ],\n",
       "         [0.539527  , 0.27428576, 0.25046232],\n",
       "         [0.42538098, 0.2674739 , 0.2530337 ]],\n",
       "\n",
       "        [[0.43179238, 0.41871315, 0.583661  ],\n",
       "         [0.4500485 , 0.42644888, 0.53971803],\n",
       "         [0.4509706 , 0.42315495, 0.478503  ],\n",
       "         ...,\n",
       "         [0.74484164, 0.42482638, 0.28706118],\n",
       "         [0.6503106 , 0.3317243 , 0.29776952],\n",
       "         [0.52514195, 0.29681337, 0.29515597]],\n",
       "\n",
       "        [[0.43887255, 0.43084657, 0.49912605],\n",
       "         [0.43025938, 0.41847932, 0.45983195],\n",
       "         [0.40923533, 0.4031233 , 0.45159277],\n",
       "         ...,\n",
       "         [0.7626    , 0.42748332, 0.29832938],\n",
       "         [0.74082375, 0.39677945, 0.33355835],\n",
       "         [0.646508  , 0.34516373, 0.3401031 ]]],\n",
       "\n",
       "\n",
       "       [[[0.03129596, 0.02729879, 0.03560052],\n",
       "         [0.0272303 , 0.02768076, 0.03951399],\n",
       "         [0.02368464, 0.03138013, 0.04231645],\n",
       "         ...,\n",
       "         [0.191289  , 0.1906234 , 0.45900416],\n",
       "         [0.18847725, 0.18855487, 0.4703919 ],\n",
       "         [0.17685711, 0.18462469, 0.4627552 ]],\n",
       "\n",
       "        [[0.03221369, 0.01998478, 0.0460736 ],\n",
       "         [0.02788632, 0.02746156, 0.04312668],\n",
       "         [0.03116245, 0.03175552, 0.03953044],\n",
       "         ...,\n",
       "         [0.20999083, 0.2151585 , 0.50713754],\n",
       "         [0.20025401, 0.20532615, 0.49421763],\n",
       "         [0.18552874, 0.19624983, 0.45496938]],\n",
       "\n",
       "        [[0.04676761, 0.02467847, 0.03052229],\n",
       "         [0.03187344, 0.02433157, 0.04591408],\n",
       "         [0.02779605, 0.03136745, 0.0392259 ],\n",
       "         ...,\n",
       "         [0.21344307, 0.23392215, 0.52724946],\n",
       "         [0.1966095 , 0.22038816, 0.48488054],\n",
       "         [0.19801338, 0.19501603, 0.4450447 ]],\n",
       "\n",
       "        ...,\n",
       "\n",
       "        [[0.18063466, 0.19223863, 0.17880425],\n",
       "         [0.17350954, 0.17658344, 0.19639094],\n",
       "         [0.17689146, 0.17254387, 0.19138251],\n",
       "         ...,\n",
       "         [0.5873351 , 0.6306048 , 0.9212237 ],\n",
       "         [0.57962656, 0.621209  , 0.9340855 ],\n",
       "         [0.60225725, 0.63386893, 0.94760126]],\n",
       "\n",
       "        [[0.17300572, 0.18468927, 0.15864305],\n",
       "         [0.1727788 , 0.18036175, 0.17720589],\n",
       "         [0.17577289, 0.18399802, 0.16384277],\n",
       "         ...,\n",
       "         [0.59682524, 0.6422785 , 0.82911426],\n",
       "         [0.60211617, 0.63113344, 0.8469096 ],\n",
       "         [0.60727805, 0.6460538 , 0.885569  ]],\n",
       "\n",
       "        [[0.16870512, 0.18423714, 0.14955792],\n",
       "         [0.16870968, 0.18062194, 0.16764301],\n",
       "         [0.1672661 , 0.18432131, 0.14702491],\n",
       "         ...,\n",
       "         [0.60847557, 0.6595471 , 0.9022    ],\n",
       "         [0.62607956, 0.643589  , 0.8860686 ],\n",
       "         [0.64213645, 0.63944006, 0.8786441 ]]]], dtype=float32)>"
      ]
     },
     "execution_count": 15,
     "metadata": {},
     "output_type": "execute_result"
    }
   ],
   "source": [
    "tf.concat((s_1[0], s_2[0]), axis=0)"
   ]
  },
  {
   "cell_type": "code",
   "execution_count": 16,
   "id": "hungarian-growth",
   "metadata": {},
   "outputs": [],
   "source": [
    "def concat_samples(sample_1, sample_2):\n",
    "    return (tf.concat((sample_1[0], sample_2[0]), axis=0),\n",
    "            tf.concat((sample_1[1], sample_2[1]), axis=0),\n",
    "            tf.concat((sample_1[2], sample_2[2]), axis=0))"
   ]
  },
  {
   "cell_type": "code",
   "execution_count": 17,
   "id": "handled-attendance",
   "metadata": {},
   "outputs": [],
   "source": [
    "merged_ds = tf.data.Dataset.zip((app_ds_1, app_ds_2)).map(concat_samples)"
   ]
  },
  {
   "cell_type": "code",
   "execution_count": 18,
   "id": "closing-inspiration",
   "metadata": {},
   "outputs": [],
   "source": [
    "for ms_1 in merged_ds.take(1):\n",
    "    break"
   ]
  },
  {
   "cell_type": "code",
   "execution_count": 19,
   "id": "dangerous-narrow",
   "metadata": {},
   "outputs": [
    {
     "data": {
      "text/plain": [
       "TensorShape([5, 480, 640, 3])"
      ]
     },
     "execution_count": 19,
     "metadata": {},
     "output_type": "execute_result"
    }
   ],
   "source": [
    "ms_1[0].shape"
   ]
  },
  {
   "cell_type": "code",
   "execution_count": 20,
   "id": "heavy-bedroom",
   "metadata": {},
   "outputs": [],
   "source": [
    "concat_ds = train_ds.concatenate(app_ds_1).batch"
   ]
  },
  {
   "cell_type": "code",
   "execution_count": 21,
   "id": "utility-centre",
   "metadata": {},
   "outputs": [],
   "source": [
    "from bfseg.utils.replay_buffer import ReplayBuffer"
   ]
  },
  {
   "cell_type": "code",
   "execution_count": 22,
   "id": "sixth-questionnaire",
   "metadata": {},
   "outputs": [],
   "source": [
    "replay_buffer = ReplayBuffer(main_ds=train_ds, replay_ds=app_ds_1, batch_size=6, ratio_main_ds_replay_ds=[20, 1])"
   ]
  },
  {
   "cell_type": "code",
   "execution_count": 23,
   "id": "turned-oklahoma",
   "metadata": {},
   "outputs": [
    {
     "data": {
      "text/plain": [
       "135"
      ]
     },
     "execution_count": 23,
     "metadata": {},
     "output_type": "execute_result"
    }
   ],
   "source": [
    "replay_buffer._tot_num_samples_main"
   ]
  },
  {
   "cell_type": "code",
   "execution_count": 24,
   "id": "sacred-bachelor",
   "metadata": {},
   "outputs": [
    {
     "data": {
      "text/plain": [
       "15"
      ]
     },
     "execution_count": 24,
     "metadata": {},
     "output_type": "execute_result"
    }
   ],
   "source": [
    "replay_buffer._tot_num_samples_replay"
   ]
  },
  {
   "cell_type": "code",
   "execution_count": 25,
   "id": "christian-maryland",
   "metadata": {},
   "outputs": [],
   "source": [
    "merged_ds_1 = replay_buffer.flow()"
   ]
  },
  {
   "cell_type": "code",
   "execution_count": 26,
   "id": "acute-reception",
   "metadata": {},
   "outputs": [
    {
     "name": "stdout",
     "output_type": "stream",
     "text": [
      "0\n",
      "(6, 480, 640, 3)\n",
      "tf.Tensor(\n",
      "[[[0.7375212  0.69755363 0.7936749 ]\n",
      "  [0.79827476 0.80070025 0.80913085]]\n",
      "\n",
      " [[0.7357196  0.7023351  0.7885317 ]\n",
      "  [0.80803484 0.80866915 0.8089116 ]]\n",
      "\n",
      " [[0.621825   0.68053335 0.76674443]\n",
      "  [0.78482664 0.7977483  0.8047084 ]]\n",
      "\n",
      " [[0.56405383 0.62340844 0.77084666]\n",
      "  [0.7231334  0.75516176 0.7970326 ]]\n",
      "\n",
      " [[0.52504086 0.56235373 0.7917612 ]\n",
      "  [0.65581906 0.67951494 0.79194623]]\n",
      "\n",
      " [[0.49376047 0.555717   0.74311805]\n",
      "  [0.6012308  0.62357265 0.7954646 ]]\n",
      "\n",
      " [[0.44711816 0.5185996  0.6415843 ]\n",
      "  [0.5919628  0.64506614 0.7716049 ]]\n",
      "\n",
      " [[0.43922597 0.4799979  0.58139914]\n",
      "  [0.5380694  0.6378627  0.7035286 ]]\n",
      "\n",
      " [[0.43240392 0.4400888  0.54535764]\n",
      "  [0.5317327  0.5772163  0.6322798 ]]\n",
      "\n",
      " [[0.45152295 0.46172243 0.5210068 ]\n",
      "  [0.51289916 0.52503306 0.57762647]]], shape=(10, 2, 3), dtype=float32)\n",
      "1\n",
      "(6, 480, 640, 3)\n",
      "tf.Tensor(\n",
      "[[[0.20924138 0.19869444 0.21421015]\n",
      "  [0.1990427  0.19910371 0.20253633]]\n",
      "\n",
      " [[0.19371785 0.19641852 0.2150966 ]\n",
      "  [0.19147222 0.19998035 0.21866278]]\n",
      "\n",
      " [[0.17855245 0.20581666 0.22108302]\n",
      "  [0.1911145  0.20070618 0.2259667 ]]\n",
      "\n",
      " [[0.17351693 0.21484534 0.2065935 ]\n",
      "  [0.1877212  0.20497125 0.22466578]]\n",
      "\n",
      " [[0.18469532 0.21420494 0.19721887]\n",
      "  [0.18490769 0.20859979 0.21623936]]\n",
      "\n",
      " [[0.19480453 0.19573748 0.215445  ]\n",
      "  [0.1905037  0.19575043 0.21291238]]\n",
      "\n",
      " [[0.20472273 0.18421136 0.2265781 ]\n",
      "  [0.20234692 0.18230197 0.22283916]]\n",
      "\n",
      " [[0.20022075 0.19762418 0.22123334]\n",
      "  [0.20034303 0.18950062 0.227498  ]]\n",
      "\n",
      " [[0.18793318 0.21871044 0.23076698]\n",
      "  [0.18939121 0.21575041 0.22899742]]\n",
      "\n",
      " [[0.17998618 0.2135813  0.23420031]\n",
      "  [0.19263287 0.21750706 0.21799663]]], shape=(10, 2, 3), dtype=float32)\n",
      "2\n",
      "(6, 480, 640, 3)\n",
      "3\n",
      "(6, 480, 640, 3)\n",
      "4\n",
      "(6, 480, 640, 3)\n",
      "5\n",
      "(6, 480, 640, 3)\n",
      "6\n",
      "(6, 480, 640, 3)\n",
      "7\n",
      "(6, 480, 640, 3)\n",
      "8\n",
      "(6, 480, 640, 3)\n",
      "9\n",
      "(6, 480, 640, 3)\n",
      "10\n",
      "(6, 480, 640, 3)\n",
      "11\n",
      "(6, 480, 640, 3)\n",
      "12\n",
      "(6, 480, 640, 3)\n",
      "13\n",
      "(6, 480, 640, 3)\n",
      "14\n",
      "(6, 480, 640, 3)\n",
      "15\n",
      "(6, 480, 640, 3)\n",
      "16\n",
      "(6, 480, 640, 3)\n",
      "17\n",
      "(6, 480, 640, 3)\n",
      "18\n",
      "(6, 480, 640, 3)\n",
      "19\n",
      "(6, 480, 640, 3)\n",
      "20\n",
      "(6, 480, 640, 3)\n",
      "21\n",
      "(6, 480, 640, 3)\n",
      "22\n",
      "(6, 480, 640, 3)\n",
      "23\n",
      "(4, 480, 640, 3)\n"
     ]
    }
   ],
   "source": [
    "for sample_idx, sample in enumerate(merged_ds_1):\n",
    "    print(sample_idx)\n",
    "    print(sample[0].shape)\n",
    "    if (sample_idx in [0, 1]):\n",
    "        print(sample[0][0, :10, :2])"
   ]
  },
  {
   "cell_type": "code",
   "execution_count": 27,
   "id": "introductory-calibration",
   "metadata": {},
   "outputs": [],
   "source": [
    "replay_buffer_2 = ReplayBuffer(main_ds=train_ds, replay_ds=app_ds_1, batch_size=6, fraction_replay_ds_to_use=0.4)"
   ]
  },
  {
   "cell_type": "code",
   "execution_count": 28,
   "id": "simple-questionnaire",
   "metadata": {},
   "outputs": [
    {
     "data": {
      "text/plain": [
       "135"
      ]
     },
     "execution_count": 28,
     "metadata": {},
     "output_type": "execute_result"
    }
   ],
   "source": [
    "replay_buffer_2._tot_num_samples_main"
   ]
  },
  {
   "cell_type": "code",
   "execution_count": 29,
   "id": "motivated-criminal",
   "metadata": {},
   "outputs": [
    {
     "data": {
      "text/plain": [
       "15"
      ]
     },
     "execution_count": 29,
     "metadata": {},
     "output_type": "execute_result"
    }
   ],
   "source": [
    "replay_buffer_2._tot_num_samples_replay"
   ]
  },
  {
   "cell_type": "code",
   "execution_count": 30,
   "id": "solid-banana",
   "metadata": {},
   "outputs": [],
   "source": [
    "merged_ds_2 = replay_buffer_2.flow()"
   ]
  },
  {
   "cell_type": "code",
   "execution_count": 32,
   "id": "alternative-omaha",
   "metadata": {},
   "outputs": [
    {
     "name": "stdout",
     "output_type": "stream",
     "text": [
      "(3, 480, 640, 3)\n",
      "(3, 480, 640, 3)\n",
      "(3, 480, 640, 3)\n",
      "(3, 480, 640, 3)\n",
      "(3, 480, 640, 3)\n"
     ]
    }
   ],
   "source": [
    "for app_sample_1 in app_ds_1:\n",
    "    print(app_sample_1[0].shape)"
   ]
  },
  {
   "cell_type": "code",
   "execution_count": 33,
   "id": "empirical-malaysia",
   "metadata": {},
   "outputs": [
    {
     "name": "stdout",
     "output_type": "stream",
     "text": [
      "0\n",
      "(6, 480, 640, 3)\n",
      "1\n",
      "(6, 480, 640, 3)\n",
      "2\n",
      "(6, 480, 640, 3)\n",
      "3\n",
      "(6, 480, 640, 3)\n",
      "4\n",
      "(6, 480, 640, 3)\n",
      "5\n",
      "(6, 480, 640, 3)\n",
      "6\n",
      "(6, 480, 640, 3)\n",
      "7\n",
      "(6, 480, 640, 3)\n",
      "8\n",
      "(6, 480, 640, 3)\n",
      "9\n",
      "(6, 480, 640, 3)\n",
      "10\n",
      "(6, 480, 640, 3)\n",
      "11\n",
      "(6, 480, 640, 3)\n",
      "12\n",
      "(6, 480, 640, 3)\n",
      "13\n",
      "(6, 480, 640, 3)\n",
      "14\n",
      "(6, 480, 640, 3)\n",
      "15\n",
      "(6, 480, 640, 3)\n",
      "16\n",
      "(6, 480, 640, 3)\n",
      "17\n",
      "(6, 480, 640, 3)\n",
      "18\n",
      "(6, 480, 640, 3)\n",
      "19\n",
      "(6, 480, 640, 3)\n",
      "20\n",
      "(6, 480, 640, 3)\n",
      "21\n",
      "(6, 480, 640, 3)\n",
      "22\n",
      "(6, 480, 640, 3)\n",
      "23\n",
      "(3, 480, 640, 3)\n"
     ]
    }
   ],
   "source": [
    "for sample_idx, sample in enumerate(merged_ds_2):\n",
    "    print(sample_idx)\n",
    "    print(sample[0].shape)"
   ]
  }
 ],
 "metadata": {
  "kernelspec": {
   "display_name": "background_foreground_segmentation",
   "language": "python",
   "name": "background_foreground_segmentation"
  },
  "language_info": {
   "codemirror_mode": {
    "name": "ipython",
    "version": 3
   },
   "file_extension": ".py",
   "mimetype": "text/x-python",
   "name": "python",
   "nbconvert_exporter": "python",
   "pygments_lexer": "ipython3",
   "version": "3.6.9"
  }
 },
 "nbformat": 4,
 "nbformat_minor": 5
}
