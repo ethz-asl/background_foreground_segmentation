{
 "cells": [
  {
   "cell_type": "markdown",
   "metadata": {
    "toc": true
   },
   "source": [
    "<h1>Table of Contents<span class=\"tocSkip\"></span></h1>\n",
    "<div class=\"toc\"><ul class=\"toc-item\"><li><span><a href=\"#Extract-all-routes\" data-toc-modified-id=\"Extract-all-routes-1\">Extract all routes</a></span></li></ul></div>"
   ]
  },
  {
   "cell_type": "code",
   "execution_count": 2,
   "metadata": {},
   "outputs": [],
   "source": [
    "import os\n",
    "import h5py\n",
    "from bfseg.data.meshdist.dataLoader import DataLoader\n",
    "import pandas as pd\n",
    "import re\n",
    "import os\n",
    "from bfseg.utils.utils import dump_meshdist_ds_to_h5"
   ]
  },
  {
   "cell_type": "code",
   "execution_count": 83,
   "metadata": {},
   "outputs": [],
   "source": [
    "train_path = \"/home/rene/cla_dataset/fused/\"\n",
    "validation_path = '/home/rene/hiveLabels/'"
   ]
  },
  {
   "cell_type": "code",
   "execution_count": 84,
   "metadata": {},
   "outputs": [],
   "source": [
    "dl_cla = DataLoader(train_path,\n",
    "                     [480, 640],\n",
    "                     validationDir=validation_path,\n",
    "                     validationMode='CLA',\n",
    "                     batchSize=4, loadDepth=False)"
   ]
  },
  {
   "cell_type": "code",
   "execution_count": 85,
   "metadata": {},
   "outputs": [],
   "source": [
    "ds_cla, _ = dl_cla.getExportableDataset()"
   ]
  },
  {
   "cell_type": "markdown",
   "metadata": {},
   "source": [
    "## Extract all routes"
   ]
  },
  {
   "cell_type": "code",
   "execution_count": 92,
   "metadata": {},
   "outputs": [],
   "source": [
    "regex_pattern = \"(.*)_img_(\\d+)_semseg\\.png\"\n",
    "all_labels = dl_cla.labels"
   ]
  },
  {
   "cell_type": "code",
   "execution_count": 93,
   "metadata": {},
   "outputs": [],
   "source": [
    "all_routes = set([re.search(regex_pattern, os.path.basename(label)).group(1) for label in all_labels])"
   ]
  },
  {
   "cell_type": "code",
   "execution_count": 94,
   "metadata": {},
   "outputs": [],
   "source": [
    "dataset_information = {}"
   ]
  },
  {
   "cell_type": "code",
   "execution_count": 95,
   "metadata": {},
   "outputs": [
    {
     "name": "stdout",
     "output_type": "stream",
     "text": [
      "cam0\n",
      "cam1\n",
      "cam2\n"
     ]
    }
   ],
   "source": [
    "for route in all_routes:\n",
    "    print(route)\n",
    "    info_file = os.path.join(train_path, f\"{route}_info.txt\")\n",
    "    dataset_information[route] = pd.read_csv(info_file, header=None, sep=',|;', engine=\"python\")"
   ]
  },
  {
   "cell_type": "code",
   "execution_count": 96,
   "metadata": {},
   "outputs": [],
   "source": [
    "img_timestamps = []\n",
    "for label in all_labels:\n",
    "    match = re.search(regex_pattern, os.path.basename(label))\n",
    "    route, number = match.group(1), int(match.group(2))\n",
    "    timestamp = dataset_information[route].iloc[number,1]\n",
    "    img_timestamps.append(route +\"_\"+ str(timestamp))"
   ]
  },
  {
   "cell_type": "code",
   "execution_count": 97,
   "metadata": {},
   "outputs": [],
   "source": [
    "datasets = [(\"CLA_FUSED\", ds_cla, img_timestamps)]"
   ]
  },
  {
   "cell_type": "code",
   "execution_count": 98,
   "metadata": {},
   "outputs": [
    {
     "name": "stdout",
     "output_type": "stream",
     "text": [
      " processing img 2707 of 2708\r"
     ]
    }
   ],
   "source": [
    "dump_meshdist_ds_to_h5(datasets, dump_depth = False)"
   ]
  }
 ],
 "metadata": {
  "kernelspec": {
   "display_name": "Python 3",
   "language": "python",
   "name": "python3"
  },
  "language_info": {
   "codemirror_mode": {
    "name": "ipython",
    "version": 3
   },
   "file_extension": ".py",
   "mimetype": "text/x-python",
   "name": "python",
   "nbconvert_exporter": "python",
   "pygments_lexer": "ipython3",
   "version": "3.6.13"
  },
  "toc": {
   "base_numbering": 1,
   "nav_menu": {},
   "number_sections": false,
   "sideBar": true,
   "skip_h1_title": false,
   "title_cell": "Table of Contents",
   "title_sidebar": "Contents",
   "toc_cell": true,
   "toc_position": {},
   "toc_section_display": true,
   "toc_window_display": false
  }
 },
 "nbformat": 4,
 "nbformat_minor": 4
}
