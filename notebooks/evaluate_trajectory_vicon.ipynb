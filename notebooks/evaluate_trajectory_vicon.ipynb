{
 "cells": [
  {
   "cell_type": "markdown",
   "metadata": {},
   "source": [
    "# Script to evaluate the trajectory in the Viconroom recorded using the pose recorder ros node"
   ]
  },
  {
   "cell_type": "code",
   "execution_count": null,
   "metadata": {},
   "outputs": [],
   "source": [
    "import pandas as pd\n",
    "import numpy as np\n",
    "import matplotlib.pyplot as plt\n",
    "from mpl_toolkits.mplot3d import Axes3D\n",
    "from scipy.spatial.transform import Rotation\n",
    "from pyquaternion import Quaternion\n",
    "import re"
   ]
  },
  {
   "cell_type": "code",
   "execution_count": 2,
   "metadata": {},
   "outputs": [],
   "source": [
    "def getFirstNonNanTimestamp(dataframe):\n",
    "    non_nan_entry_prediction = np.where(~np.isnan(dataframe['x_pos'].to_numpy()))[0]\n",
    "    return dataframe['Timestamp'][non_nan_entry_prediction[0]], non_nan_entry_prediction[0]"
   ]
  },
  {
   "cell_type": "code",
   "execution_count": 3,
   "metadata": {},
   "outputs": [],
   "source": [
    "def getTimestampIndex(dataframe, timestamp):\n",
    "    return np.where(dataframe['Timestamp'] == timestamp)[0][0]"
   ]
  },
  {
   "cell_type": "code",
   "execution_count": 32,
   "metadata": {},
   "outputs": [],
   "source": [
    "def scoreTrajectory(gt_traj, estimated_traj, plot = False):\n",
    "    first_ts_gt, gt_idx = getFirstNonNanTimestamp(gt_traj)\n",
    "    first_ts_est, est_idx = getFirstNonNanTimestamp(estimated_traj)\n",
    "    \n",
    "    if first_ts_gt > first_ts_est:\n",
    "        est_idx = getTimestampIndex(estimated_traj, first_ts_gt)\n",
    "    else:\n",
    "        gt_idx = getTimestampIndex(gt_traj, first_ts_est)\n",
    "    \n",
    "    gt_traj = gt_traj.iloc[gt_idx:,:]\n",
    "    estimated_traj = estimated_traj.iloc[est_idx:,:]\n",
    "    \n",
    "    length = min(len(gt_traj), len(estimated_traj))\n",
    "    gt_traj = gt_traj.iloc[:length,:]\n",
    "    estimated_traj = estimated_traj.iloc[:length,:]\n",
    "    \n",
    "    print(\"found \", length, \"Timestamps\")\n",
    "    non_nan = np.logical_and(~np.isnan(gt_traj['x']) ,~np.isnan(estimated_traj['x']))\n",
    "    non_nan = non_nan[non_nan == non_nan]\n",
    "    estimated_traj = estimated_traj.iloc[np.where(non_nan)[0],:]\n",
    "    gt_traj = gt_traj.iloc[np.where(non_nan)[0],:]\n",
    "    \n",
    "    \n",
    "    gt_pos = gt_traj[['x_pos', 'y_pos', 'z_pos']].to_numpy()\n",
    "    est_pos = estimated_traj[['x_pos', 'y_pos', 'z_pos']].to_numpy()\n",
    "    \n",
    "    gt_rot =  gt_traj[['x', 'y', 'z','w']].to_numpy()\n",
    "    est_rot =  estimated_traj[['x', 'y', 'z','w']].to_numpy()\n",
    "    \n",
    "    \n",
    "    \n",
    "    \n",
    "    p = re.compile(\"[^-'](-?\\d\\.\\d*)\")\n",
    "    \n",
    "    if (isinstance(gt_rot[0,-1],str)):\n",
    "        # old version of gt data, need to fix quaternions\n",
    "        print(\"messed up quat in gt\")\n",
    "        for i, entry in enumerate(gt_rot):\n",
    "            w = p.search(entry[3]).group()[1:]\n",
    "            z = entry[3].replace(w,\"\")\n",
    "            gt_rot[i,:] = [entry[1], entry[2], float(z), float(w)]\n",
    "        \n",
    "    if (isinstance(est_rot[0,-1],str)):\n",
    "        # old version of gt data, need to fix quaternions\n",
    "        print(\"messed up quat in est\")\n",
    "        for i, entry in enumerate(est_rot):\n",
    "            w = p.search(entry[3]).group()[1:]\n",
    "            z = entry[3].replace(w,\"\")\n",
    "            est_rot[i,:] = [entry[1], entry[2], float(z), float(w)]\n",
    "    \n",
    "    gt_pos = gt_pos.T\n",
    "    est_pos = est_pos.T\n",
    "    gt_rot = gt_rot\n",
    "    est_rot = est_rot\n",
    "    \n",
    "    \n",
    "    print(\"------ POSITION -----\")\n",
    "    \n",
    "    position_error = (gt_pos - est_pos).T\n",
    "    \n",
    "    err_norm = np.linalg.norm(position_error, axis = 0)\n",
    "    print(f\"Positional Error Statistics: \\n Mean: {np.mean(err_norm):.4f},\\n std: {np.var(err_norm):.4f}\")\n",
    "    \n",
    "    if plot:\n",
    "        fig = plt.figure()\n",
    "        ax = fig.add_subplot(111, projection = \"3d\")\n",
    "        ax.plot(gt_pos[0],gt_pos[1],gt_pos[2], marker = 'x')\n",
    "        ax.set_ylabel('Y')\n",
    "        ax.set_xlabel('X')\n",
    "        ax.set_zlabel('Z')\n",
    "        ax.set_title(\"3D Position\")\n",
    "        ax.plot(est_pos[0], est_pos[1], est_pos[2], marker = 'x')\n",
    "        plt.legend(['GT','Prediction'])\n",
    "        plt.show()\n",
    "\n",
    "        fig = plt.figure()\n",
    "        ax = fig.add_subplot(111)\n",
    "        ax.plot(gt_pos[0],gt_pos[1], marker = 'x')\n",
    "        ax.set_ylabel('Y')\n",
    "        ax.set_xlabel('X')\n",
    "        ax.set_title(\"XY Position\")\n",
    "        ax.plot(est_pos[0], est_pos[1], marker = 'x')\n",
    "        plt.legend(['GT','Prediction'])\n",
    "        plt.show()\n",
    "\n",
    "\n",
    "        fig = plt.figure()\n",
    "        ax = fig.add_subplot(111)\n",
    "        ax.plot(position_error)\n",
    "        ax.set_ylabel('Error')\n",
    "        ax.set_xlabel('Timestep')\n",
    "        ax.set_title(\"Position Error\")\n",
    "        ax.legend(['x_err','y_err','z_err'])\n",
    "        ax.set_ylim(-1,1)\n",
    "        plt.show()\n",
    "    \n",
    "    print(\"------ ROTATION -----\")\n",
    "    gt_rot_e = np.asarray([Rotation.from_quat(angle).as_euler('xyz', degrees =True) for angle in gt_rot]).T\n",
    "    est_rot_e = np.asarray([Rotation.from_quat(angle).as_euler('xyz', degrees =True) for angle in est_rot]).T\n",
    "    error_quat = np.asarray([Quaternion.absolute_distance(Quaternion(gt_rot.T[:,i]), Quaternion(est_rot.T[:,i])) for i in range(len(gt_rot))])\n",
    "    print(f\"Positional Error Statistics: \\n Mean: {np.mean(error_quat):.4f},\\n std: {np.var(error_quat):.4f}\")\n",
    "    if plot:\n",
    "        plt.subplot(3,1,1)\n",
    "        plt.plot(gt_rot_e[0,:])\n",
    "        plt.plot(est_rot_e[0,:])\n",
    "        plt.title(\"Roll\")\n",
    "        plt.grid()\n",
    "        plt.subplot(3,1,2)\n",
    "        plt.plot(gt_rot_e[1,:])\n",
    "        plt.plot(est_rot_e[1,:])\n",
    "        plt.title(\"Pitch\")\n",
    "        plt.grid()\n",
    "        plt.subplot(3,1,3)\n",
    "        plt.plot(gt_rot_e[2,:])\n",
    "        plt.plot(est_rot_e[2,:])\n",
    "        plt.title(\"Yaw\")\n",
    "        plt.grid()\n",
    "        plt.show()\n",
    "\n",
    "        plt.subplot(3,1,1)\n",
    "        err_rpy = gt_rot_e - est_rot_e\n",
    "        plt.plot(err_rpy[0,:])\n",
    "        plt.title(\"Roll\")\n",
    "        plt.grid()\n",
    "        plt.ylim(-10,10)\n",
    "        plt.subplot(3,1,2)\n",
    "        plt.plot(err_rpy[1,:])\n",
    "        plt.title(\"Pitch\")\n",
    "        plt.grid()\n",
    "        plt.ylim(-10,10)\n",
    "        plt.subplot(3,1,3)\n",
    "        plt.plot(err_rpy[2,:])\n",
    "        plt.title(\"Yaw\")\n",
    "        plt.grid()\n",
    "        plt.show()\n",
    "        plt.ylim(-10,10)\n",
    "\n",
    "\n",
    "        plt.plot(error_quat)\n",
    "        plt.title(\"Quaternion absolute distance\")\n",
    "        plt.ylim(0, 0.1)\n",
    "        plt.show()\n",
    "\n",
    "    "
   ]
  },
  {
   "cell_type": "code",
   "execution_count": 17,
   "metadata": {},
   "outputs": [
    {
     "name": "stdout",
     "output_type": "stream",
     "text": [
      "traj1_gt_poses.csv\n",
      "traj2_gt_pose.csv\n",
      "traj2_pose_no_filter.csv\n",
      "traj2_pose_using_nn.csv\n",
      "traj3_gt_pose.csv\n",
      "traj3_nn_pred_pose.csv\n",
      "traj3_pose_no_filter.csv\n",
      "traj4_gt_pose.csv\n",
      "traj4_nn_cons.csv\n",
      "traj4_nn_pred.csv\n",
      "traj4_no_filtering.csv\n"
     ]
    }
   ],
   "source": [
    "!ls /home/rene/data/LEE | grep .csv"
   ]
  },
  {
   "cell_type": "markdown",
   "metadata": {},
   "source": [
    "## Traj 3"
   ]
  },
  {
   "cell_type": "code",
   "execution_count": 41,
   "metadata": {},
   "outputs": [],
   "source": [
    "prediction_traj_nn = pd.read_csv('/home/rene/data/LEE/traj3_nn_pred_pose.csv', index_col = False) #pd.read_csv('/home/rene/data/LEE/traj4_nn_pred.csv', index_col = False)\n",
    "prediction_traj = pd.read_csv('/home/rene/data/LEE/traj3_pose_no_filter.csv', index_col = False) # pd.read_csv('/home/rene/data/LEE/traj4_no_filtering.csv', index_col = False)\n",
    "gt_traj =  pd.read_csv('/home/rene/data/LEE/traj3_gt_pose.csv', index_col = False) # pd.read_csv('/home/rene/data/LEE/t.csv', index_col = False)"
   ]
  },
  {
   "cell_type": "code",
   "execution_count": 47,
   "metadata": {},
   "outputs": [
    {
     "name": "stdout",
     "output_type": "stream",
     "text": [
      "RESULTS FOR NO NN\n",
      "found  200 Timestamps\n",
      "messed up quat in gt\n",
      "------ POSITION -----\n",
      "Positional Error Statistics: \n",
      " Mean: 3.2659,\n",
      " std: 5.9735\n",
      "------ ROTATION -----\n",
      "Positional Error Statistics: \n",
      " Mean: 0.0426,\n",
      " std: 0.0003\n",
      "=============================================\n",
      "RESULTS WITH NN\n",
      "found  181 Timestamps\n",
      "messed up quat in gt\n",
      "------ POSITION -----\n",
      "Positional Error Statistics: \n",
      " Mean: 3.0340,\n",
      " std: 6.1847\n",
      "------ ROTATION -----\n",
      "Positional Error Statistics: \n",
      " Mean: 0.0149,\n",
      " std: 0.0001\n"
     ]
    }
   ],
   "source": [
    "print(\"RESULTS FOR NO NN\")\n",
    "scoreTrajectory(gt_traj,prediction_traj)\n",
    "print(\"=============================================\")\n",
    "print(\"RESULTS WITH NN\")\n",
    "scoreTrajectory(gt_traj,prediction_traj_nn)"
   ]
  },
  {
   "cell_type": "markdown",
   "metadata": {},
   "source": [
    "# Traj 4"
   ]
  },
  {
   "cell_type": "code",
   "execution_count": 44,
   "metadata": {},
   "outputs": [],
   "source": [
    "prediction_traj_nn = pd.read_csv('/home/rene/data/LEE/traj4_nn_pred.csv', index_col = False)\n",
    "prediction_traj = pd.read_csv('/home/rene/data/LEE/traj4_no_filtering.csv', index_col = False)\n",
    "gt_traj =  pd.read_csv('/home/rene/data/LEE/traj4_gt_pose.csv', index_col = False)\n"
   ]
  },
  {
   "cell_type": "code",
   "execution_count": 46,
   "metadata": {},
   "outputs": [
    {
     "name": "stdout",
     "output_type": "stream",
     "text": [
      "RESULTS FOR NO NN\n",
      "found  200 Timestamps\n",
      "messed up quat in gt\n",
      "------ POSITION -----\n",
      "Positional Error Statistics: \n",
      " Mean: 3.2659,\n",
      " std: 5.9735\n",
      "------ ROTATION -----\n",
      "Positional Error Statistics: \n",
      " Mean: 0.0426,\n",
      " std: 0.0003\n",
      "=============================================\n",
      "RESULTS WITH NN\n",
      "found  181 Timestamps\n",
      "messed up quat in gt\n",
      "------ POSITION -----\n",
      "Positional Error Statistics: \n",
      " Mean: 3.0340,\n",
      " std: 6.1847\n",
      "------ ROTATION -----\n",
      "Positional Error Statistics: \n",
      " Mean: 0.0149,\n",
      " std: 0.0001\n"
     ]
    }
   ],
   "source": [
    "print(\"RESULTS FOR NO NN\")\n",
    "scoreTrajectory(gt_traj,prediction_traj)\n",
    "print(\"=============================================\")\n",
    "print(\"RESULTS WITH NN\")\n",
    "scoreTrajectory(gt_traj,prediction_traj_nn)"
   ]
  },
  {
   "cell_type": "code",
   "execution_count": null,
   "metadata": {},
   "outputs": [],
   "source": []
  },
  {
   "cell_type": "code",
   "execution_count": null,
   "metadata": {},
   "outputs": [],
   "source": []
  }
 ],
 "metadata": {
  "kernelspec": {
   "display_name": "Python 3",
   "language": "python",
   "name": "python3"
  },
  "language_info": {
   "codemirror_mode": {
    "name": "ipython",
    "version": 3
   },
   "file_extension": ".py",
   "mimetype": "text/x-python",
   "name": "python",
   "nbconvert_exporter": "python",
   "pygments_lexer": "ipython3",
   "version": "3.7.5"
  }
 },
 "nbformat": 4,
 "nbformat_minor": 4
}
