{
 "cells": [
  {
   "cell_type": "code",
   "execution_count": 3,
   "metadata": {},
   "outputs": [],
   "source": [
    "import os\n",
    "workingdir = \"/home/rene/hiveLabels/\"\n",
    "\n",
    "import h5py\n",
    "from bfseg.data.meshdist.dataLoader import DataLoader\n",
    "from bfseg.utils.utils import dump_meshdist_ds_to_h5"
   ]
  },
  {
   "cell_type": "code",
   "execution_count": 2,
   "metadata": {},
   "outputs": [],
   "source": [
    "train_path = \"/home/rene/vicon_dataset/rotated/\"\n",
    "validation_path = '/home/rene/hiveLabels/'"
   ]
  },
  {
   "cell_type": "code",
   "execution_count": 4,
   "metadata": {},
   "outputs": [],
   "source": [
    "dl_cla = DataLoader(train_path,\n",
    "                     [480, 640],\n",
    "                     validationDir=validation_path,\n",
    "                     validationMode='CLA',\n",
    "                     batchSize=4, loadDepth=False)"
   ]
  },
  {
   "cell_type": "code",
   "execution_count": 5,
   "metadata": {},
   "outputs": [],
   "source": [
    "_, ds_cla = dl_cla.getExportableDataset()"
   ]
  },
  {
   "cell_type": "code",
   "execution_count": 6,
   "metadata": {},
   "outputs": [],
   "source": [
    "dl_arche = DataLoader(train_path,\n",
    "                     [480, 640],\n",
    "                     validationDir=validation_path,\n",
    "                     validationMode='ARCHE',\n",
    "                     batchSize=4, loadDepth=False)"
   ]
  },
  {
   "cell_type": "code",
   "execution_count": 7,
   "metadata": {},
   "outputs": [],
   "source": [
    "_, ds_arche = dl_arche.getExportableDataset()"
   ]
  },
  {
   "cell_type": "code",
   "execution_count": 8,
   "metadata": {},
   "outputs": [],
   "source": [
    "datasets = [(\"CLA\",ds_cla,dl_cla.validationLabels),(\"ARCHE\",ds_arche, dl_arche.validationLabels)]"
   ]
  },
  {
   "cell_type": "code",
   "execution_count": 9,
   "metadata": {},
   "outputs": [],
   "source": [
    "dump_meshdist_ds_to_h5(datasets)"
   ]
  }
 ],
 "metadata": {
  "kernelspec": {
   "display_name": "Python 3",
   "language": "python",
   "name": "python3"
  },
  "language_info": {
   "codemirror_mode": {
    "name": "ipython",
    "version": 3
   },
   "file_extension": ".py",
   "mimetype": "text/x-python",
   "name": "python",
   "nbconvert_exporter": "python",
   "pygments_lexer": "ipython3",
   "version": "3.6.9"
  }
 },
 "nbformat": 4,
 "nbformat_minor": 4
}
