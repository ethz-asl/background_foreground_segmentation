{
 "cells": [
  {
   "cell_type": "markdown",
   "metadata": {
    "toc": true
   },
   "source": [
    "<h1>Table of Contents<span class=\"tocSkip\"></span></h1>\n",
    "<div class=\"toc\"><ul class=\"toc-item\"></ul></div>"
   ]
  },
  {
   "cell_type": "code",
   "execution_count": 9,
   "metadata": {},
   "outputs": [],
   "source": [
    "import tensorflow as tf\n",
    "import tensorflow_addons as tfa\n",
    "import tensorflow_datasets as tfds\n",
    "from zipfile import ZipFile\n",
    "\n",
    "\n",
    "import bfseg.data.hive.office_rumlang_validation_labeled\n",
    "import bfseg.data.hive.bfseg_validation_labeled\n",
    "from bfseg.utils.utils import load_gdrive_file\n",
    "from bfseg.settings import TMPDIR\n"
   ]
  },
  {
   "cell_type": "code",
   "execution_count": 17,
   "metadata": {},
   "outputs": [],
   "source": [
    "# load the  model\n",
    "ZipFile(load_gdrive_file('1ZF2nYMD9PE0kr435TrDVLpaHuDUBSOC5',\n",
    "                        ending='zip')).extractall(\n",
    "                            os.path.join(TMPDIR, 'segmentation_model'))\n",
    "model = tf.saved_model.load(os.path.join(TMPDIR, 'segmentation_model'))\n",
    "\n"
   ]
  },
  {
   "cell_type": "code",
   "execution_count": 20,
   "metadata": {
    "scrolled": false
   },
   "outputs": [
    {
     "output_type": "execute_result",
     "data": {
      "text/plain": [
       "<tf.Tensor: shape=(), dtype=float32, numpy=0.40327787>"
      ]
     },
     "metadata": {},
     "execution_count": 20
    }
   ],
   "source": [
    "miou = tf.keras.metrics.MeanIoU(num_classes=2)\n",
    "for batch in tfds.load('bfseg_validation_labeled', split='CLA').batch(1):\n",
    "    pred = tf.argmax(model(\n",
    "        tf.image.convert_image_dtype(batch['image'], tf.float32)),\n",
    "        axis=-1)\n",
    "    miou.update_state(batch['label'], pred)\n",
    "miou.result()\n"
   ]
  },
  {
   "cell_type": "code",
   "execution_count": 21,
   "metadata": {},
   "outputs": [
    {
     "output_type": "stream",
     "name": "stdout",
     "text": [
      "\u001b[1mDownloading and preparing dataset Unknown size (download: Unknown size, generated: Unknown size, total: Unknown size) to /home/blumh/tensorflow_datasets/office_rumlang_validation_labeled/1.0.0...\u001b[0m\n"
     ]
    },
    {
     "output_type": "display_data",
     "data": {
      "text/plain": "Dl Completed...: 0 url [00:00, ? url/s]",
      "application/vnd.jupyter.widget-view+json": {
       "version_major": 2,
       "version_minor": 0,
       "model_id": "238c253df4e64fd181f5a8bc36fa4575"
      }
     },
     "metadata": {}
    },
    {
     "output_type": "display_data",
     "data": {
      "text/plain": "Dl Size...: 0 MiB [00:00, ? MiB/s]",
      "application/vnd.jupyter.widget-view+json": {
       "version_major": 2,
       "version_minor": 0,
       "model_id": "107d1d3f31e94c0387747af37327cd33"
      }
     },
     "metadata": {}
    },
    {
     "output_type": "stream",
     "name": "stdout",
     "text": [
      "\n\n"
     ]
    },
    {
     "output_type": "display_data",
     "data": {
      "text/plain": "Generating splits...:   0%|          | 0/2 [00:00<?, ? splits/s]",
      "application/vnd.jupyter.widget-view+json": {
       "version_major": 2,
       "version_minor": 0,
       "model_id": "2437e7b878e5463ca3506a2bb2191d1c"
      }
     },
     "metadata": {}
    },
    {
     "output_type": "display_data",
     "data": {
      "text/plain": "Generating OFFICE examples...: 0 examples [00:00, ? examples/s]",
      "application/vnd.jupyter.widget-view+json": {
       "version_major": 2,
       "version_minor": 0,
       "model_id": "0187dfdadb024335b5b1e0c98d259dd3"
      }
     },
     "metadata": {}
    },
    {
     "output_type": "display_data",
     "data": {
      "text/plain": "Shuffling office_rumlang_validation_labeled-OFFICE.tfrecord...:   0%|          | 0/31 [00:00<?, ? examples/s]",
      "application/vnd.jupyter.widget-view+json": {
       "version_major": 2,
       "version_minor": 0,
       "model_id": "b572e2c8f9234e04b0acff49ab2a6c03"
      }
     },
     "metadata": {}
    },
    {
     "output_type": "display_data",
     "data": {
      "text/plain": "Generating RUMLANG examples...: 0 examples [00:00, ? examples/s]",
      "application/vnd.jupyter.widget-view+json": {
       "version_major": 2,
       "version_minor": 0,
       "model_id": "bc4a929fb6314208a093658792974e58"
      }
     },
     "metadata": {}
    },
    {
     "output_type": "display_data",
     "data": {
      "text/plain": "Shuffling office_rumlang_validation_labeled-RUMLANG.tfrecord...:   0%|          | 0/26 [00:00<?, ? examples/s]",
      "application/vnd.jupyter.widget-view+json": {
       "version_major": 2,
       "version_minor": 0,
       "model_id": "eaf52d26c78c4d62a38f93b85fd776e8"
      }
     },
     "metadata": {}
    },
    {
     "output_type": "stream",
     "name": "stdout",
     "text": [
      "\u001b[1mDataset office_rumlang_validation_labeled downloaded and prepared to /home/blumh/tensorflow_datasets/office_rumlang_validation_labeled/1.0.0. Subsequent calls will reuse this data.\u001b[0m\n"
     ]
    },
    {
     "output_type": "execute_result",
     "data": {
      "text/plain": [
       "<tf.Tensor: shape=(), dtype=float32, numpy=0.46286935>"
      ]
     },
     "metadata": {},
     "execution_count": 21
    }
   ],
   "source": [
    "miou = tf.keras.metrics.MeanIoU(num_classes=2)\n",
    "for batch in tfds.load('office_rumlang_validation_labeled', split='OFFICE').batch(1):\n",
    "    pred = tf.argmax(model(\n",
    "        tf.image.convert_image_dtype(batch['image'], tf.float32)),\n",
    "        axis=-1)\n",
    "    miou.update_state(batch['label'], pred)\n",
    "miou.result()"
   ]
  },
  {
   "cell_type": "code",
   "execution_count": 22,
   "metadata": {},
   "outputs": [
    {
     "output_type": "execute_result",
     "data": {
      "text/plain": [
       "<tf.Tensor: shape=(), dtype=float32, numpy=0.29405522>"
      ]
     },
     "metadata": {},
     "execution_count": 22
    }
   ],
   "source": [
    "miou = tf.keras.metrics.MeanIoU(num_classes=2)\n",
    "for batch in tfds.load('office_rumlang_validation_labeled', split='RUMLANG').batch(1):\n",
    "    pred = tf.argmax(model(\n",
    "        tf.image.convert_image_dtype(batch['image'], tf.float32)),\n",
    "        axis=-1)\n",
    "    miou.update_state(batch['label'], pred)\n",
    "miou.result()"
   ]
  }
 ],
 "metadata": {
  "kernelspec": {
   "name": "python3",
   "display_name": "Python 3.6.9 64-bit",
   "metadata": {
    "interpreter": {
     "hash": "31f2aee4e71d21fbe5cf8b01ff0e069b9275f58929596ceb00d14d90e3e16cd6"
    }
   }
  },
  "language_info": {
   "codemirror_mode": {
    "name": "ipython",
    "version": 3
   },
   "file_extension": ".py",
   "mimetype": "text/x-python",
   "name": "python",
   "nbconvert_exporter": "python",
   "pygments_lexer": "ipython3",
   "version": "3.6.9-final"
  },
  "toc": {
   "base_numbering": 1,
   "nav_menu": {},
   "number_sections": false,
   "sideBar": true,
   "skip_h1_title": false,
   "title_cell": "Table of Contents",
   "title_sidebar": "Contents",
   "toc_cell": true,
   "toc_position": {},
   "toc_section_display": true,
   "toc_window_display": false
  }
 },
 "nbformat": 4,
 "nbformat_minor": 2
}