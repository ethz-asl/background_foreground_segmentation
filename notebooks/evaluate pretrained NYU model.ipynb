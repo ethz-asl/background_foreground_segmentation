{
 "cells": [
  {
   "cell_type": "markdown",
   "metadata": {
    "toc": true
   },
   "source": [
    "<h1>Table of Contents<span class=\"tocSkip\"></span></h1>\n",
    "<div class=\"toc\"><ul class=\"toc-item\"></ul></div>"
   ]
  },
  {
   "cell_type": "code",
   "execution_count": 1,
   "metadata": {},
   "outputs": [
    {
     "name": "stdout",
     "output_type": "stream",
     "text": [
      "['/home/matthias/git/background_foreground_segmentation', '/home/matthias/anaconda3/envs/bfs1/lib/python36.zip', '/home/matthias/anaconda3/envs/bfs1/lib/python3.6', '/home/matthias/anaconda3/envs/bfs1/lib/python3.6/lib-dynload', '', '/home/matthias/anaconda3/envs/bfs1/lib/python3.6/site-packages', '/home/matthias/anaconda3/envs/bfs1/lib/python3.6/site-packages/IPython/extensions', '/home/matthias/.ipython', '/home/matthias/git/background_foreground_segmentation/src/']\n"
     ]
    }
   ],
   "source": [
    "import sys\n",
    "\n",
    "sys.path.append(\"/home/matthias/git/background_foreground_segmentation/src/\")\n",
    "print(sys.path)"
   ]
  },
  {
   "cell_type": "code",
   "execution_count": 2,
   "metadata": {},
   "outputs": [
    {
     "ename": "ModuleNotFoundError",
     "evalue": "No module named 'bfseg.models'",
     "output_type": "error",
     "traceback": [
      "\u001B[0;31m---------------------------------------------------------------------------\u001B[0m",
      "\u001B[0;31mModuleNotFoundError\u001B[0m                       Traceback (most recent call last)",
      "\u001B[0;32m<ipython-input-2-267e0eb17f35>\u001B[0m in \u001B[0;36m<module>\u001B[0;34m\u001B[0m\n\u001B[1;32m      5\u001B[0m \u001B[0;32mimport\u001B[0m \u001B[0mos\u001B[0m\u001B[0;34m\u001B[0m\u001B[0;34m\u001B[0m\u001B[0m\n\u001B[1;32m      6\u001B[0m \u001B[0;34m\u001B[0m\u001B[0m\n\u001B[0;32m----> 7\u001B[0;31m \u001B[0;32mimport\u001B[0m \u001B[0mbfseg\u001B[0m\u001B[0;34m.\u001B[0m\u001B[0mmodels\u001B[0m\u001B[0;34m.\u001B[0m\u001B[0mfast_scnn\u001B[0m\u001B[0;34m\u001B[0m\u001B[0;34m\u001B[0m\u001B[0m\n\u001B[0m\u001B[1;32m      8\u001B[0m \u001B[0;32mimport\u001B[0m \u001B[0mbfseg\u001B[0m\u001B[0;34m.\u001B[0m\u001B[0mdata\u001B[0m\u001B[0;34m.\u001B[0m\u001B[0mhive\u001B[0m\u001B[0;34m.\u001B[0m\u001B[0moffice_rumlang_validation_labeled\u001B[0m\u001B[0;34m\u001B[0m\u001B[0;34m\u001B[0m\u001B[0m\n\u001B[1;32m      9\u001B[0m \u001B[0;32mimport\u001B[0m \u001B[0mbfseg\u001B[0m\u001B[0;34m.\u001B[0m\u001B[0mdata\u001B[0m\u001B[0;34m.\u001B[0m\u001B[0mhive\u001B[0m\u001B[0;34m.\u001B[0m\u001B[0mbfseg_validation_labeled\u001B[0m\u001B[0;34m\u001B[0m\u001B[0;34m\u001B[0m\u001B[0m\n",
      "\u001B[0;31mModuleNotFoundError\u001B[0m: No module named 'bfseg.models'"
     ]
    }
   ],
   "source": [
    "import tensorflow as tf\n",
    "import tensorflow_addons as tfa\n",
    "import tensorflow_datasets as tfds\n",
    "from zipfile import ZipFile\n",
    "import os\n",
    "\n",
    "\n",
    "import bfseg.models.fast_scnn\n",
    "import bfseg.data.hive.office_rumlang_validation_labeled\n",
    "import bfseg.data.hive.bfseg_validation_labeled\n",
    "from bfseg.utils.utils import load_gdrive_file\n",
    "#from bfseg.settings import TMPDIR\n",
    "TMPDIR = \"/home/matthias/data/rss_2021_data/tmp/\""
   ]
  },
  {
   "cell_type": "code",
   "execution_count": 5,
   "metadata": {},
   "outputs": [
    {
     "name": "stderr",
     "output_type": "stream",
     "text": [
      "/home/matthias/anaconda3/envs/bfs1/lib/python3.6/site-packages/tensorflow/python/keras/layers/core.py:1045: UserWarning: bfseg.models.fast_scnn is not loaded, but a Lambda layer uses it. It may cause errors.\n",
      "  , UserWarning)\n"
     ]
    },
    {
     "ename": "NameError",
     "evalue": "name 'tf' is not defined",
     "output_type": "error",
     "traceback": [
      "\u001B[0;31m---------------------------------------------------------------------------\u001B[0m",
      "\u001B[0;31mNameError\u001B[0m                                 Traceback (most recent call last)",
      "\u001B[0;32m<ipython-input-5-2738bb4c7378>\u001B[0m in \u001B[0;36m<module>\u001B[0;34m\u001B[0m\n\u001B[1;32m      1\u001B[0m \u001B[0;31m# MY VERSION: load the  model from gdrive\u001B[0m\u001B[0;34m\u001B[0m\u001B[0;34m\u001B[0m\u001B[0;34m\u001B[0m\u001B[0m\n\u001B[0;32m----> 2\u001B[0;31m \u001B[0mtf\u001B[0m\u001B[0;34m.\u001B[0m\u001B[0mkeras\u001B[0m\u001B[0;34m.\u001B[0m\u001B[0mmodels\u001B[0m\u001B[0;34m.\u001B[0m\u001B[0mload_model\u001B[0m\u001B[0;34m(\u001B[0m\u001B[0;34m'/home/matthias/data/rss_2021_data/xavier_models/model_epoch_final_rumlang1_test.h5'\u001B[0m\u001B[0;34m)\u001B[0m\u001B[0;34m\u001B[0m\u001B[0;34m\u001B[0m\u001B[0m\n\u001B[0m",
      "\u001B[0;32m~/anaconda3/envs/bfs1/lib/python3.6/site-packages/tensorflow/python/keras/saving/save.py\u001B[0m in \u001B[0;36mload_model\u001B[0;34m(filepath, custom_objects, compile, options)\u001B[0m\n\u001B[1;32m    180\u001B[0m     if (h5py is not None and (\n\u001B[1;32m    181\u001B[0m         isinstance(filepath, h5py.File) or h5py.is_hdf5(filepath))):\n\u001B[0;32m--> 182\u001B[0;31m       \u001B[0;32mreturn\u001B[0m \u001B[0mhdf5_format\u001B[0m\u001B[0;34m.\u001B[0m\u001B[0mload_model_from_hdf5\u001B[0m\u001B[0;34m(\u001B[0m\u001B[0mfilepath\u001B[0m\u001B[0;34m,\u001B[0m \u001B[0mcustom_objects\u001B[0m\u001B[0;34m,\u001B[0m \u001B[0mcompile\u001B[0m\u001B[0;34m)\u001B[0m\u001B[0;34m\u001B[0m\u001B[0;34m\u001B[0m\u001B[0m\n\u001B[0m\u001B[1;32m    183\u001B[0m \u001B[0;34m\u001B[0m\u001B[0m\n\u001B[1;32m    184\u001B[0m     \u001B[0mfilepath\u001B[0m \u001B[0;34m=\u001B[0m \u001B[0mpath_to_string\u001B[0m\u001B[0;34m(\u001B[0m\u001B[0mfilepath\u001B[0m\u001B[0;34m)\u001B[0m\u001B[0;34m\u001B[0m\u001B[0;34m\u001B[0m\u001B[0m\n",
      "\u001B[0;32m~/anaconda3/envs/bfs1/lib/python3.6/site-packages/tensorflow/python/keras/saving/hdf5_format.py\u001B[0m in \u001B[0;36mload_model_from_hdf5\u001B[0;34m(filepath, custom_objects, compile)\u001B[0m\n\u001B[1;32m    176\u001B[0m     \u001B[0mmodel_config\u001B[0m \u001B[0;34m=\u001B[0m \u001B[0mjson\u001B[0m\u001B[0;34m.\u001B[0m\u001B[0mloads\u001B[0m\u001B[0;34m(\u001B[0m\u001B[0mmodel_config\u001B[0m\u001B[0;34m.\u001B[0m\u001B[0mdecode\u001B[0m\u001B[0;34m(\u001B[0m\u001B[0;34m'utf-8'\u001B[0m\u001B[0;34m)\u001B[0m\u001B[0;34m)\u001B[0m\u001B[0;34m\u001B[0m\u001B[0;34m\u001B[0m\u001B[0m\n\u001B[1;32m    177\u001B[0m     model = model_config_lib.model_from_config(model_config,\n\u001B[0;32m--> 178\u001B[0;31m                                                custom_objects=custom_objects)\n\u001B[0m\u001B[1;32m    179\u001B[0m \u001B[0;34m\u001B[0m\u001B[0m\n\u001B[1;32m    180\u001B[0m     \u001B[0;31m# set weights\u001B[0m\u001B[0;34m\u001B[0m\u001B[0;34m\u001B[0m\u001B[0;34m\u001B[0m\u001B[0m\n",
      "\u001B[0;32m~/anaconda3/envs/bfs1/lib/python3.6/site-packages/tensorflow/python/keras/saving/model_config.py\u001B[0m in \u001B[0;36mmodel_from_config\u001B[0;34m(config, custom_objects)\u001B[0m\n\u001B[1;32m     53\u001B[0m                     '`Sequential.from_config(config)`?')\n\u001B[1;32m     54\u001B[0m   \u001B[0;32mfrom\u001B[0m \u001B[0mtensorflow\u001B[0m\u001B[0;34m.\u001B[0m\u001B[0mpython\u001B[0m\u001B[0;34m.\u001B[0m\u001B[0mkeras\u001B[0m\u001B[0;34m.\u001B[0m\u001B[0mlayers\u001B[0m \u001B[0;32mimport\u001B[0m \u001B[0mdeserialize\u001B[0m  \u001B[0;31m# pylint: disable=g-import-not-at-top\u001B[0m\u001B[0;34m\u001B[0m\u001B[0;34m\u001B[0m\u001B[0m\n\u001B[0;32m---> 55\u001B[0;31m   \u001B[0;32mreturn\u001B[0m \u001B[0mdeserialize\u001B[0m\u001B[0;34m(\u001B[0m\u001B[0mconfig\u001B[0m\u001B[0;34m,\u001B[0m \u001B[0mcustom_objects\u001B[0m\u001B[0;34m=\u001B[0m\u001B[0mcustom_objects\u001B[0m\u001B[0;34m)\u001B[0m\u001B[0;34m\u001B[0m\u001B[0;34m\u001B[0m\u001B[0m\n\u001B[0m\u001B[1;32m     56\u001B[0m \u001B[0;34m\u001B[0m\u001B[0m\n\u001B[1;32m     57\u001B[0m \u001B[0;34m\u001B[0m\u001B[0m\n",
      "\u001B[0;32m~/anaconda3/envs/bfs1/lib/python3.6/site-packages/tensorflow/python/keras/layers/serialization.py\u001B[0m in \u001B[0;36mdeserialize\u001B[0;34m(config, custom_objects)\u001B[0m\n\u001B[1;32m    173\u001B[0m       \u001B[0mmodule_objects\u001B[0m\u001B[0;34m=\u001B[0m\u001B[0mLOCAL\u001B[0m\u001B[0;34m.\u001B[0m\u001B[0mALL_OBJECTS\u001B[0m\u001B[0;34m,\u001B[0m\u001B[0;34m\u001B[0m\u001B[0;34m\u001B[0m\u001B[0m\n\u001B[1;32m    174\u001B[0m       \u001B[0mcustom_objects\u001B[0m\u001B[0;34m=\u001B[0m\u001B[0mcustom_objects\u001B[0m\u001B[0;34m,\u001B[0m\u001B[0;34m\u001B[0m\u001B[0;34m\u001B[0m\u001B[0m\n\u001B[0;32m--> 175\u001B[0;31m       printable_module_name='layer')\n\u001B[0m",
      "\u001B[0;32m~/anaconda3/envs/bfs1/lib/python3.6/site-packages/tensorflow/python/keras/utils/generic_utils.py\u001B[0m in \u001B[0;36mdeserialize_keras_object\u001B[0;34m(identifier, module_objects, custom_objects, printable_module_name)\u001B[0m\n\u001B[1;32m    356\u001B[0m             custom_objects=dict(\n\u001B[1;32m    357\u001B[0m                 \u001B[0mlist\u001B[0m\u001B[0;34m(\u001B[0m\u001B[0m_GLOBAL_CUSTOM_OBJECTS\u001B[0m\u001B[0;34m.\u001B[0m\u001B[0mitems\u001B[0m\u001B[0;34m(\u001B[0m\u001B[0;34m)\u001B[0m\u001B[0;34m)\u001B[0m \u001B[0;34m+\u001B[0m\u001B[0;34m\u001B[0m\u001B[0;34m\u001B[0m\u001B[0m\n\u001B[0;32m--> 358\u001B[0;31m                 list(custom_objects.items())))\n\u001B[0m\u001B[1;32m    359\u001B[0m       \u001B[0;32mwith\u001B[0m \u001B[0mCustomObjectScope\u001B[0m\u001B[0;34m(\u001B[0m\u001B[0mcustom_objects\u001B[0m\u001B[0;34m)\u001B[0m\u001B[0;34m:\u001B[0m\u001B[0;34m\u001B[0m\u001B[0;34m\u001B[0m\u001B[0m\n\u001B[1;32m    360\u001B[0m         \u001B[0;32mreturn\u001B[0m \u001B[0mcls\u001B[0m\u001B[0;34m.\u001B[0m\u001B[0mfrom_config\u001B[0m\u001B[0;34m(\u001B[0m\u001B[0mcls_config\u001B[0m\u001B[0;34m)\u001B[0m\u001B[0;34m\u001B[0m\u001B[0;34m\u001B[0m\u001B[0m\n",
      "\u001B[0;32m~/anaconda3/envs/bfs1/lib/python3.6/site-packages/tensorflow/python/keras/engine/functional.py\u001B[0m in \u001B[0;36mfrom_config\u001B[0;34m(cls, config, custom_objects)\u001B[0m\n\u001B[1;32m    615\u001B[0m     \"\"\"\n\u001B[1;32m    616\u001B[0m     input_tensors, output_tensors, created_layers = reconstruct_from_config(\n\u001B[0;32m--> 617\u001B[0;31m         config, custom_objects)\n\u001B[0m\u001B[1;32m    618\u001B[0m     model = cls(inputs=input_tensors, outputs=output_tensors,\n\u001B[1;32m    619\u001B[0m                 name=config.get('name'))\n",
      "\u001B[0;32m~/anaconda3/envs/bfs1/lib/python3.6/site-packages/tensorflow/python/keras/engine/functional.py\u001B[0m in \u001B[0;36mreconstruct_from_config\u001B[0;34m(config, custom_objects, created_layers)\u001B[0m\n\u001B[1;32m   1212\u001B[0m       \u001B[0;32mif\u001B[0m \u001B[0mlayer\u001B[0m \u001B[0;32min\u001B[0m \u001B[0munprocessed_nodes\u001B[0m\u001B[0;34m:\u001B[0m\u001B[0;34m\u001B[0m\u001B[0;34m\u001B[0m\u001B[0m\n\u001B[1;32m   1213\u001B[0m         \u001B[0;32mfor\u001B[0m \u001B[0mnode_data\u001B[0m \u001B[0;32min\u001B[0m \u001B[0munprocessed_nodes\u001B[0m\u001B[0;34m.\u001B[0m\u001B[0mpop\u001B[0m\u001B[0;34m(\u001B[0m\u001B[0mlayer\u001B[0m\u001B[0;34m)\u001B[0m\u001B[0;34m:\u001B[0m\u001B[0;34m\u001B[0m\u001B[0;34m\u001B[0m\u001B[0m\n\u001B[0;32m-> 1214\u001B[0;31m           \u001B[0mprocess_node\u001B[0m\u001B[0;34m(\u001B[0m\u001B[0mlayer\u001B[0m\u001B[0;34m,\u001B[0m \u001B[0mnode_data\u001B[0m\u001B[0;34m)\u001B[0m\u001B[0;34m\u001B[0m\u001B[0;34m\u001B[0m\u001B[0m\n\u001B[0m\u001B[1;32m   1215\u001B[0m \u001B[0;34m\u001B[0m\u001B[0m\n\u001B[1;32m   1216\u001B[0m   \u001B[0minput_tensors\u001B[0m \u001B[0;34m=\u001B[0m \u001B[0;34m[\u001B[0m\u001B[0;34m]\u001B[0m\u001B[0;34m\u001B[0m\u001B[0;34m\u001B[0m\u001B[0m\n",
      "\u001B[0;32m~/anaconda3/envs/bfs1/lib/python3.6/site-packages/tensorflow/python/keras/engine/functional.py\u001B[0m in \u001B[0;36mprocess_node\u001B[0;34m(layer, node_data)\u001B[0m\n\u001B[1;32m   1160\u001B[0m     \u001B[0;32mif\u001B[0m \u001B[0minput_tensors\u001B[0m \u001B[0;32mis\u001B[0m \u001B[0;32mnot\u001B[0m \u001B[0;32mNone\u001B[0m\u001B[0;34m:\u001B[0m\u001B[0;34m\u001B[0m\u001B[0;34m\u001B[0m\u001B[0m\n\u001B[1;32m   1161\u001B[0m       \u001B[0minput_tensors\u001B[0m \u001B[0;34m=\u001B[0m \u001B[0mbase_layer_utils\u001B[0m\u001B[0;34m.\u001B[0m\u001B[0munnest_if_single_tensor\u001B[0m\u001B[0;34m(\u001B[0m\u001B[0minput_tensors\u001B[0m\u001B[0;34m)\u001B[0m\u001B[0;34m\u001B[0m\u001B[0;34m\u001B[0m\u001B[0m\n\u001B[0;32m-> 1162\u001B[0;31m       \u001B[0moutput_tensors\u001B[0m \u001B[0;34m=\u001B[0m \u001B[0mlayer\u001B[0m\u001B[0;34m(\u001B[0m\u001B[0minput_tensors\u001B[0m\u001B[0;34m,\u001B[0m \u001B[0;34m**\u001B[0m\u001B[0mkwargs\u001B[0m\u001B[0;34m)\u001B[0m\u001B[0;34m\u001B[0m\u001B[0;34m\u001B[0m\u001B[0m\n\u001B[0m\u001B[1;32m   1163\u001B[0m \u001B[0;34m\u001B[0m\u001B[0m\n\u001B[1;32m   1164\u001B[0m       \u001B[0;31m# Update node index map.\u001B[0m\u001B[0;34m\u001B[0m\u001B[0;34m\u001B[0m\u001B[0;34m\u001B[0m\u001B[0m\n",
      "\u001B[0;32m~/anaconda3/envs/bfs1/lib/python3.6/site-packages/tensorflow/python/keras/engine/base_layer.py\u001B[0m in \u001B[0;36m__call__\u001B[0;34m(self, *args, **kwargs)\u001B[0m\n\u001B[1;32m    924\u001B[0m     \u001B[0;32mif\u001B[0m \u001B[0m_in_functional_construction_mode\u001B[0m\u001B[0;34m(\u001B[0m\u001B[0mself\u001B[0m\u001B[0;34m,\u001B[0m \u001B[0minputs\u001B[0m\u001B[0;34m,\u001B[0m \u001B[0margs\u001B[0m\u001B[0;34m,\u001B[0m \u001B[0mkwargs\u001B[0m\u001B[0;34m,\u001B[0m \u001B[0minput_list\u001B[0m\u001B[0;34m)\u001B[0m\u001B[0;34m:\u001B[0m\u001B[0;34m\u001B[0m\u001B[0;34m\u001B[0m\u001B[0m\n\u001B[1;32m    925\u001B[0m       return self._functional_construction_call(inputs, args, kwargs,\n\u001B[0;32m--> 926\u001B[0;31m                                                 input_list)\n\u001B[0m\u001B[1;32m    927\u001B[0m \u001B[0;34m\u001B[0m\u001B[0m\n\u001B[1;32m    928\u001B[0m     \u001B[0;31m# Maintains info about the `Layer.call` stack.\u001B[0m\u001B[0;34m\u001B[0m\u001B[0;34m\u001B[0m\u001B[0;34m\u001B[0m\u001B[0m\n",
      "\u001B[0;32m~/anaconda3/envs/bfs1/lib/python3.6/site-packages/tensorflow/python/keras/engine/base_layer.py\u001B[0m in \u001B[0;36m_functional_construction_call\u001B[0;34m(self, inputs, args, kwargs, input_list)\u001B[0m\n\u001B[1;32m   1115\u001B[0m           \u001B[0;32mtry\u001B[0m\u001B[0;34m:\u001B[0m\u001B[0;34m\u001B[0m\u001B[0;34m\u001B[0m\u001B[0m\n\u001B[1;32m   1116\u001B[0m             \u001B[0;32mwith\u001B[0m \u001B[0mops\u001B[0m\u001B[0;34m.\u001B[0m\u001B[0menable_auto_cast_variables\u001B[0m\u001B[0;34m(\u001B[0m\u001B[0mself\u001B[0m\u001B[0;34m.\u001B[0m\u001B[0m_compute_dtype_object\u001B[0m\u001B[0;34m)\u001B[0m\u001B[0;34m:\u001B[0m\u001B[0;34m\u001B[0m\u001B[0;34m\u001B[0m\u001B[0m\n\u001B[0;32m-> 1117\u001B[0;31m               \u001B[0moutputs\u001B[0m \u001B[0;34m=\u001B[0m \u001B[0mcall_fn\u001B[0m\u001B[0;34m(\u001B[0m\u001B[0mcast_inputs\u001B[0m\u001B[0;34m,\u001B[0m \u001B[0;34m*\u001B[0m\u001B[0margs\u001B[0m\u001B[0;34m,\u001B[0m \u001B[0;34m**\u001B[0m\u001B[0mkwargs\u001B[0m\u001B[0;34m)\u001B[0m\u001B[0;34m\u001B[0m\u001B[0;34m\u001B[0m\u001B[0m\n\u001B[0m\u001B[1;32m   1118\u001B[0m \u001B[0;34m\u001B[0m\u001B[0m\n\u001B[1;32m   1119\u001B[0m           \u001B[0;32mexcept\u001B[0m \u001B[0merrors\u001B[0m\u001B[0;34m.\u001B[0m\u001B[0mOperatorNotAllowedInGraphError\u001B[0m \u001B[0;32mas\u001B[0m \u001B[0me\u001B[0m\u001B[0;34m:\u001B[0m\u001B[0;34m\u001B[0m\u001B[0;34m\u001B[0m\u001B[0m\n",
      "\u001B[0;32m~/anaconda3/envs/bfs1/lib/python3.6/site-packages/tensorflow/python/keras/layers/core.py\u001B[0m in \u001B[0;36mcall\u001B[0;34m(self, inputs, mask, training)\u001B[0m\n\u001B[1;32m    901\u001B[0m     \u001B[0;32mwith\u001B[0m \u001B[0mbackprop\u001B[0m\u001B[0;34m.\u001B[0m\u001B[0mGradientTape\u001B[0m\u001B[0;34m(\u001B[0m\u001B[0mwatch_accessed_variables\u001B[0m\u001B[0;34m=\u001B[0m\u001B[0;32mTrue\u001B[0m\u001B[0;34m)\u001B[0m \u001B[0;32mas\u001B[0m \u001B[0mtape\u001B[0m\u001B[0;34m,\u001B[0m\u001B[0;31m\\\u001B[0m\u001B[0;34m\u001B[0m\u001B[0;34m\u001B[0m\u001B[0m\n\u001B[1;32m    902\u001B[0m         \u001B[0mvariable_scope\u001B[0m\u001B[0;34m.\u001B[0m\u001B[0mvariable_creator_scope\u001B[0m\u001B[0;34m(\u001B[0m\u001B[0m_variable_creator\u001B[0m\u001B[0;34m)\u001B[0m\u001B[0;34m:\u001B[0m\u001B[0;34m\u001B[0m\u001B[0;34m\u001B[0m\u001B[0m\n\u001B[0;32m--> 903\u001B[0;31m       \u001B[0mresult\u001B[0m \u001B[0;34m=\u001B[0m \u001B[0mself\u001B[0m\u001B[0;34m.\u001B[0m\u001B[0mfunction\u001B[0m\u001B[0;34m(\u001B[0m\u001B[0minputs\u001B[0m\u001B[0;34m,\u001B[0m \u001B[0;34m**\u001B[0m\u001B[0mkwargs\u001B[0m\u001B[0;34m)\u001B[0m\u001B[0;34m\u001B[0m\u001B[0;34m\u001B[0m\u001B[0m\n\u001B[0m\u001B[1;32m    904\u001B[0m     \u001B[0mself\u001B[0m\u001B[0;34m.\u001B[0m\u001B[0m_check_variables\u001B[0m\u001B[0;34m(\u001B[0m\u001B[0mcreated_variables\u001B[0m\u001B[0;34m,\u001B[0m \u001B[0mtape\u001B[0m\u001B[0;34m.\u001B[0m\u001B[0mwatched_variables\u001B[0m\u001B[0;34m(\u001B[0m\u001B[0;34m)\u001B[0m\u001B[0;34m)\u001B[0m\u001B[0;34m\u001B[0m\u001B[0;34m\u001B[0m\u001B[0m\n\u001B[1;32m    905\u001B[0m     \u001B[0;32mreturn\u001B[0m \u001B[0mresult\u001B[0m\u001B[0;34m\u001B[0m\u001B[0;34m\u001B[0m\u001B[0m\n",
      "\u001B[0;32m~/anaconda3/envs/bfs1/lib/python3.6/site-packages/tensorflow/python/keras/layers/core.py\u001B[0m in \u001B[0;36m<lambda>\u001B[0;34m(x)\u001B[0m\n\u001B[1;32m    146\u001B[0m \u001B[0;34m\u001B[0m\u001B[0m\n\u001B[1;32m    147\u001B[0m   (This is in contrast to setting `trainable=False` for a Dropout layer.\n\u001B[0;32m--> 148\u001B[0;31m   \u001B[0;31m`\u001B[0m\u001B[0mtrainable\u001B[0m\u001B[0;31m`\u001B[0m \u001B[0mdoes\u001B[0m \u001B[0;32mnot\u001B[0m \u001B[0maffect\u001B[0m \u001B[0mthe\u001B[0m \u001B[0mlayer\u001B[0m\u001B[0;31m'\u001B[0m\u001B[0ms\u001B[0m \u001B[0mbehavior\u001B[0m\u001B[0;34m,\u001B[0m \u001B[0;32mas\u001B[0m \u001B[0mDropout\u001B[0m \u001B[0mdoes\u001B[0m\u001B[0;34m\u001B[0m\u001B[0;34m\u001B[0m\u001B[0m\n\u001B[0m\u001B[1;32m    149\u001B[0m   not have any variables/weights that can be frozen during training.)\n\u001B[1;32m    150\u001B[0m \u001B[0;34m\u001B[0m\u001B[0m\n",
      "\u001B[0;31mNameError\u001B[0m: name 'tf' is not defined"
     ]
    }
   ],
   "source": [
    "# MY VERSION: load the  model from gdrive \n",
    "tf.keras.models.load_model('/home/matthias/data/rss_2021_data/xavier_models/model_epoch_final_rumlang1_test.h5')"
   ]
  },
  {
   "cell_type": "code",
   "execution_count": 9,
   "metadata": {},
   "outputs": [],
   "source": [
    "# load the  model from gdrive\n",
    "ZipFile(load_gdrive_file('1ZF2nYMD9PE0kr435TrDVLpaHuDUBSOC5',\n",
    "                        ending='zip')).extractall(\n",
    "                            os.path.join(TMPDIR, 'segmentation_model'))\n",
    "model = tf.saved_model.load(os.path.join(TMPDIR, 'segmentation_model'))\n",
    "\n"
   ]
  },
  {
   "cell_type": "code",
   "execution_count": 20,
   "metadata": {
    "scrolled": false
   },
   "outputs": [
    {
     "data": {
      "text/plain": [
       "<tf.Tensor: shape=(), dtype=float32, numpy=0.40327787>"
      ]
     },
     "execution_count": 20,
     "metadata": {},
     "output_type": "execute_result"
    }
   ],
   "source": [
    "miou = tf.keras.metrics.MeanIoU(num_classes=2)\n",
    "for batch in tfds.load('bfseg_validation_labeled', split='CLA').batch(1):\n",
    "    pred = tf.argmax(model(\n",
    "        tf.image.convert_image_dtype(batch['image'], tf.float32)),\n",
    "        axis=-1)\n",
    "    miou.update_state(batch['label'], pred)\n",
    "miou.result()\n"
   ]
  },
  {
   "cell_type": "code",
   "execution_count": 11,
   "metadata": {},
   "outputs": [
    {
     "data": {
      "text/plain": [
       "<tf.Tensor: shape=(), dtype=float32, numpy=0.2940687>"
      ]
     },
     "execution_count": 11,
     "metadata": {},
     "output_type": "execute_result"
    }
   ],
   "source": [
    "miou = tf.keras.metrics.MeanIoU(num_classes=2)\n",
    "for batch in tfds.load('office_rumlang_validation_labeled', split='RUMLANG').batch(1):\n",
    "    pred = tf.argmax(model(\n",
    "        tf.image.convert_image_dtype(batch['image'], tf.float32)),\n",
    "        axis=-1)\n",
    "    miou.update_state(batch['label'], pred)\n",
    "miou.result()"
   ]
  },
  {
   "cell_type": "code",
   "execution_count": 22,
   "metadata": {},
   "outputs": [
    {
     "data": {
      "text/plain": [
       "<tf.Tensor: shape=(), dtype=float32, numpy=0.29405522>"
      ]
     },
     "execution_count": 22,
     "metadata": {},
     "output_type": "execute_result"
    }
   ],
   "source": [
    "miou = tf.keras.metrics.MeanIoU(num_classes=2)\n",
    "for batch in tfds.load('office_rumlang_validation_labeled', split='RUMLANG').batch(1):\n",
    "    pred = tf.argmax(model(\n",
    "        tf.image.convert_image_dtype(batch['image'], tf.float32)),\n",
    "        axis=-1)\n",
    "    miou.update_state(batch['label'], pred)\n",
    "miou.result()"
   ]
  }
 ],
 "metadata": {
  "kernelspec": {
   "display_name": "Python 3.6.13 64-bit ('bfs1': conda)",
   "language": "python",
   "name": "python3613jvsc74a57bd0d25eef4d1e8f8ed5f371977720fb34916b8ebf1e4020a826952d38cdb641a52a"
  },
  "language_info": {
   "codemirror_mode": {
    "name": "ipython",
    "version": 3
   },
   "file_extension": ".py",
   "mimetype": "text/x-python",
   "name": "python",
   "nbconvert_exporter": "python",
   "pygments_lexer": "ipython3",
   "version": "3.6.13"
  },
  "toc": {
   "base_numbering": 1,
   "nav_menu": {},
   "number_sections": false,
   "sideBar": true,
   "skip_h1_title": false,
   "title_cell": "Table of Contents",
   "title_sidebar": "Contents",
   "toc_cell": true,
   "toc_position": {},
   "toc_section_display": true,
   "toc_window_display": false
  }
 },
 "nbformat": 4,
 "nbformat_minor": 2
}