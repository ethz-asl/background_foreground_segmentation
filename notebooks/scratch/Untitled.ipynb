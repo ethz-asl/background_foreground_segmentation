{
 "cells": [
  {
   "cell_type": "code",
   "execution_count": 1,
   "metadata": {},
   "outputs": [
    {
     "name": "stdout",
     "output_type": "stream",
     "text": [
      "env: SM_FRAMEWORK=tf.keras\n",
      "Segmentation Models: using `tf.keras` framework.\n"
     ]
    }
   ],
   "source": [
    "import os\n",
    "os.environ[\"CUDA_VISIBLE_DEVICES\"] = \"-1\"\n",
    "%env SM_FRAMEWORK=tf.keras\n",
    "from bfseg.data.meshdist.dataLoader import DataLoader\n",
    "from bfseg.utils.losses import ignorant_cross_entropy_loss\n",
    "from bfseg.utils.metrics import IgnorantAccuracyMetric, IgnorantBalancedAccuracyMetric\n",
    "import segmentation_models as sm\n",
    "import tensorflow as tf\n",
    "import matplotlib.pyplot as plt\n",
    "plt.rcParams['figure.figsize'] = [30, 30]\n",
    "\n",
    "\n",
    "workingdir = \"/home/rene/cla_dataset/watershed/\"\n",
    "\n"
   ]
  },
  {
   "cell_type": "code",
   "execution_count": 5,
   "metadata": {},
   "outputs": [
    {
     "name": "stdout",
     "output_type": "stream",
     "text": [
      "\u001b[0m\u001b[01;35mdistance.png\u001b[0m  \u001b[01;35mlabels.png\u001b[0m  \u001b[01;35moriginal.png\u001b[0m  \u001b[01;35mpreview.png\u001b[0m\n"
     ]
    }
   ],
   "source": [
    "ls /home/rene/vicon_dataset/rgb_1/1606729430.546172"
   ]
  },
  {
   "cell_type": "code",
   "execution_count": null,
   "metadata": {},
   "outputs": [],
   "source": []
  },
  {
   "cell_type": "code",
   "execution_count": null,
   "metadata": {},
   "outputs": [],
   "source": []
  }
 ],
 "metadata": {
  "kernelspec": {
   "display_name": "Python 3",
   "language": "python",
   "name": "python3"
  },
  "language_info": {
   "codemirror_mode": {
    "name": "ipython",
    "version": 3
   },
   "file_extension": ".py",
   "mimetype": "text/x-python",
   "name": "python",
   "nbconvert_exporter": "python",
   "pygments_lexer": "ipython3",
   "version": "3.6.9"
  }
 },
 "nbformat": 4,
 "nbformat_minor": 4
}
