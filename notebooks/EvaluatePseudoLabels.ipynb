{
 "cells": [
  {
   "cell_type": "markdown",
   "metadata": {},
   "source": [
    "# Load Dataset With Names"
   ]
  },
  {
   "cell_type": "code",
   "execution_count": 186,
   "metadata": {
    "pycharm": {
     "name": "#%%\n"
    }
   },
   "outputs": [],
   "source": [
    "import tensorflow_datasets as tfds\n",
    "from PIL import Image\n",
    "import tensorflow as tf\n",
    "from statistics import mean\n",
    "import numpy as np\n",
    "\n",
    "\n",
    "ds_office = tfds.load(\"OfficeRumlangValidationLabeled\", split=\"OFFICE\", as_supervised = False)\n",
    "ds_rumlang = tfds.load(\"OfficeRumlangValidationLabeled\", split=\"RUMLANG\", as_supervised = False)"
   ]
  },
  {
   "cell_type": "code",
   "execution_count": null,
   "outputs": [],
   "source": [
    "def evaluateLabels(pseudoLabelSets, gtSet, maxTimeDiff = 0.3):\n",
    "    \"\"\"\n",
    "     Evaluate pseudo labels to groundtruth labels.\n",
    "        gtSet: groundtruth labels from the hive\n",
    "        pseudoLabelSets: list with datasets containing pseudolabels that should be matched to the groundtruth set\n",
    "    \"\"\"\n",
    "\n",
    "    # Gather all filenames\n",
    "    available_timestamps = []\n",
    "    for set in pseudoLabelSets:\n",
    "        for entry in set:\n",
    "            filename = entry['filename'].numpy().decode(\"utf-8\")\n",
    "            available_timestamps.append(filename)\n",
    "\n",
    "    cam_timestamp_to_label_gt = {}\n",
    "\n",
    "    # For each groundtruth image find closest pseudo label file\n",
    "    for entry in gtSet:\n",
    "        name = entry['name'].numpy().decode(\"utf-8\").replace(\"semseg_\", \"\").replace(\".png\",\"\")\n",
    "        # swap cam to the back\n",
    "        name = \"_\".join(reversed(name.split(\"_\")))\n",
    "        ts = int(name.split(\"_\")[0])\n",
    "\n",
    "        # Find closest timestamp from the same camera\n",
    "        closest_ts = min(available_timestamps, key = lambda x : abs(int(x.split(\"_\")[0]) - ts)\\\n",
    "                   + 10**14 * (x.split(\"_\")[1] != name.split(\"_\")[1])) # Additional term to punish wrong camera\n",
    "        # Time difference\n",
    "        diff = abs(int(closest_ts.split(\"_\")[0]) - ts) / 10**9\n",
    "\n",
    "        if diff < maxTimeDiff:\n",
    "            cam_timestamp_to_label_gt[closest_ts] = entry['label']\n",
    "        else:\n",
    "            print(f\"could not find pseudo label for gt file {name}. Closest time difference {diff}\")\n",
    "\n",
    "    scores = []\n",
    "    # Iterate through pseudo labels again to now calculate mIoU scores of cloesest images.\n",
    "    for set in pseudoLabelSets:\n",
    "        for entry in set:\n",
    "            filename = entry['filename'].numpy().decode(\"utf-8\")\n",
    "            if filename in cam_timestamp_to_label_gt.keys():\n",
    "                l_gt = cam_timestamp_to_label_gt[filename]\n",
    "                l_pseudo = np.asarray(Image.fromarray(np.squeeze(entry['label'].numpy().astype(np.uint8))).resize((l_gt.shape[1], l_gt.shape[0]), Image.NEAREST).convert(\"L\"))\n",
    "\n",
    "                mask = tf.constant(l_pseudo != 2)\n",
    "                prediction_masked = tf.boolean_mask(tf.constant(l_pseudo), mask)\n",
    "                gt_masked = tf.boolean_mask(tf.squeeze(l_gt), mask)\n",
    "\n",
    "                mIoU = tf.keras.metrics.MeanIoU(num_classes=2)\n",
    "                mIoU.update_state(prediction_masked, gt_masked)\n",
    "                mIoUValue = mIoU.result().numpy()\n",
    "                print(filename, \"mIoU:\", mIoUValue)\n",
    "                scores.append(mIoUValue)\n",
    "    print(\"valid files: \", len(scores))\n",
    "    print(\"Average mIoU\", mean(scores))\n",
    "    return mean(scores)\n",
    "\n"
   ],
   "metadata": {
    "collapsed": false,
    "pycharm": {
     "name": "#%%\n"
    }
   }
  },
  {
   "cell_type": "code",
   "execution_count": 190,
   "outputs": [],
   "source": [
    "import tensorflow_datasets as tfds\n",
    "labels = tfds.load('meshdist_pseudolabels')"
   ],
   "metadata": {
    "collapsed": false,
    "pycharm": {
     "name": "#%%\n"
    }
   }
  },
  {
   "cell_type": "code",
   "execution_count": 189,
   "outputs": [
    {
     "name": "stdout",
     "output_type": "stream",
     "text": [
      "could not find pseudo label for gt file 1612787555066908000_cam1. Closest time difference 0.549865\n",
      "could not find pseudo label for gt file 1612787570463007000_cam0. Closest time difference 1.29972\n",
      "could not find pseudo label for gt file 1612787467893841000_cam0. Closest time difference 0.599738\n",
      "could not find pseudo label for gt file 1612784110462165000_cam0. Closest time difference 379.581513\n",
      "could not find pseudo label for gt file 1612783962992338000_cam0. Closest time difference 527.05134\n",
      "could not find pseudo label for gt file 1612784144856845000_cam1. Closest time difference 345.137025\n",
      "could not find pseudo label for gt file 1612787543769879000_cam2. Closest time difference 1.049582\n",
      "could not find pseudo label for gt file 1612784002234186000_cam0. Closest time difference 487.809492\n",
      "could not find pseudo label for gt file 1612784161204314000_cam1. Closest time difference 328.789556\n",
      "could not find pseudo label for gt file 1612784075968755000_cam1. Closest time difference 414.025115\n",
      "could not find pseudo label for gt file 1612783997485123000_cam1. Closest time difference 492.508747\n",
      "could not find pseudo label for gt file 1612787583509932000_cam0. Closest time difference 1.449771\n",
      "could not find pseudo label for gt file 1612784055174058000_cam0. Closest time difference 434.86962\n",
      "could not find pseudo label for gt file 1612787496033693000_cam2. Closest time difference 0.699661\n",
      "could not find pseudo label for gt file 1612784617590415000_cam1. Closest time difference 0.599984\n",
      "could not find pseudo label for gt file 1612784002484135000_cam0. Closest time difference 487.559543\n",
      "could not find pseudo label for gt file 1612784011732878000_cam0. Closest time difference 478.3108\n",
      "1612784548745243000_cam1 mIoU: 0.75867414\n",
      "1612784528245587000_cam1 mIoU: 0.38184866\n",
      "1612787556416639000_cam2 mIoU: 0.56168175\n",
      "1612787488386696000_cam2 mIoU: 0.38031197\n",
      "1612787485437336000_cam0 mIoU: 0.378964\n",
      "1612787525924959000_cam2 mIoU: 0.44391608\n",
      "1612787588059475000_cam2 mIoU: 0.46214312\n",
      "1612787472292226000_cam0 mIoU: 0.5626054\n",
      "1612787560865635000_cam2 mIoU: 0.521414\n",
      "valid files:  9\n",
      "Average mIoU 0.49461767\n"
     ]
    },
    {
     "data": {
      "text/plain": "0.49461767"
     },
     "execution_count": 189,
     "metadata": {},
     "output_type": "execute_result"
    }
   ],
   "source": [
    "evaluateLabels([labels['rumlang2'], labels['rumlang3']],ds_rumlang, maxTimeDiff=0.5)"
   ],
   "metadata": {
    "collapsed": false,
    "pycharm": {
     "name": "#%%\n"
    }
   }
  },
  {
   "cell_type": "code",
   "execution_count": 192,
   "outputs": [
    {
     "name": "stdout",
     "output_type": "stream",
     "text": [
      "could not find pseudo label for gt file 1611927755639513969_cam1. Closest time difference 1715846.703069031\n",
      "could not find pseudo label for gt file 1611926874658593893_cam0. Closest time difference 1716727.683798107\n",
      "could not find pseudo label for gt file 1611926840900478601_cam0. Closest time difference 1716761.441913399\n",
      "could not find pseudo label for gt file 1611928312359371901_cam0. Closest time difference 1715289.983020099\n",
      "could not find pseudo label for gt file 1611927703679764986_cam1. Closest time difference 1715898.662818014\n",
      "could not find pseudo label for gt file 1611926816061948299_cam1. Closest time difference 1716786.280634701\n",
      "could not find pseudo label for gt file 1611928372396341562_cam1. Closest time difference 1715229.946241438\n",
      "could not find pseudo label for gt file 1611928359277365685_cam0. Closest time difference 1715243.065026315\n",
      "could not find pseudo label for gt file 1611928402153963089_cam0. Closest time difference 1715200.188428911\n",
      "could not find pseudo label for gt file 1611927594640538692_cam1. Closest time difference 1716007.702044308\n",
      "could not find pseudo label for gt file 1611928295199315786_cam1. Closest time difference 1715307.143267214\n",
      "could not find pseudo label for gt file 1611928306319358110_cam0. Closest time difference 1715296.02303389\n",
      "could not find pseudo label for gt file 1611928291199320316_cam3. Closest time difference 1715311.143071684\n",
      "could not find pseudo label for gt file 1611926822621597528_cam1. Closest time difference 1716779.720985472\n",
      "could not find pseudo label for gt file 1611927736999588251_cam0. Closest time difference 1715865.342803749\n",
      "could not find pseudo label for gt file 1611928399034221411_cam1. Closest time difference 1715203.308361589\n",
      "could not find pseudo label for gt file 1611926810902276754_cam0. Closest time difference 1716791.440115246\n",
      "could not find pseudo label for gt file 1611928385755257368_cam0. Closest time difference 1715216.587134632\n",
      "could not find pseudo label for gt file 1611927690799852371_cam0. Closest time difference 1715911.542539629\n",
      "could not find pseudo label for gt file 1611927647640154600_cam3. Closest time difference 1715954.7022374\n",
      "could not find pseudo label for gt file 1611928314559371710_cam3. Closest time difference 1715287.78302029\n",
      "could not find pseudo label for gt file 1611927744079548836_cam3. Closest time difference 1715858.262843164\n",
      "could not find pseudo label for gt file 1611928272359490156_cam0. Closest time difference 1715329.982901844\n",
      "could not find pseudo label for gt file 1611926821661660910_cam0. Closest time difference 1716780.68073109\n",
      "could not find pseudo label for gt file 1611928300279320955_cam0. Closest time difference 1715302.063071045\n",
      "could not find pseudo label for gt file 1611927739039576292_cam1. Closest time difference 1715863.303006708\n",
      "could not find pseudo label for gt file 1611926845540231466_cam0. Closest time difference 1716756.802160534\n",
      "could not find pseudo label for gt file 1611928279959266901_cam0. Closest time difference 1715322.383125099\n",
      "could not find pseudo label for gt file 1611926862499314785_cam0. Closest time difference 1716739.843077215\n",
      "could not find pseudo label for gt file 1611927723799630404_cam1. Closest time difference 1715878.542952596\n",
      "could not find pseudo label for gt file 1611928349198227644_cam3. Closest time difference 1715253.144164356\n",
      "valid files:  0\n"
     ]
    },
    {
     "ename": "StatisticsError",
     "evalue": "mean requires at least one data point",
     "output_type": "error",
     "traceback": [
      "\u001B[0;31m---------------------------------------------------------------------------\u001B[0m",
      "\u001B[0;31mStatisticsError\u001B[0m                           Traceback (most recent call last)",
      "\u001B[0;32m<ipython-input-192-97c1bb410437>\u001B[0m in \u001B[0;36m<module>\u001B[0;34m\u001B[0m\n\u001B[0;32m----> 1\u001B[0;31m \u001B[0mevaluateLabels\u001B[0m\u001B[0;34m(\u001B[0m\u001B[0;34m[\u001B[0m\u001B[0mlabels\u001B[0m\u001B[0;34m[\u001B[0m\u001B[0;34m'office4'\u001B[0m\u001B[0;34m]\u001B[0m\u001B[0;34m,\u001B[0m \u001B[0mlabels\u001B[0m\u001B[0;34m[\u001B[0m\u001B[0;34m'office5'\u001B[0m\u001B[0;34m]\u001B[0m\u001B[0;34m]\u001B[0m\u001B[0;34m,\u001B[0m\u001B[0mds_office\u001B[0m\u001B[0;34m,\u001B[0m \u001B[0mmaxTimeDiff\u001B[0m\u001B[0;34m=\u001B[0m\u001B[0;36m0.5\u001B[0m\u001B[0;34m)\u001B[0m\u001B[0;34m\u001B[0m\u001B[0;34m\u001B[0m\u001B[0m\n\u001B[0m\u001B[1;32m      2\u001B[0m \u001B[0;34m\u001B[0m\u001B[0m\n",
      "\u001B[0;32m<ipython-input-186-fcc3a00a6ff4>\u001B[0m in \u001B[0;36mevaluateLabels\u001B[0;34m(pseudoLabelSets, gtSet, maxTimeDiff)\u001B[0m\n\u001B[1;32m     64\u001B[0m                 \u001B[0mscores\u001B[0m\u001B[0;34m.\u001B[0m\u001B[0mappend\u001B[0m\u001B[0;34m(\u001B[0m\u001B[0mmIoUValue\u001B[0m\u001B[0;34m)\u001B[0m\u001B[0;34m\u001B[0m\u001B[0;34m\u001B[0m\u001B[0m\n\u001B[1;32m     65\u001B[0m     \u001B[0mprint\u001B[0m\u001B[0;34m(\u001B[0m\u001B[0;34m\"valid files: \"\u001B[0m\u001B[0;34m,\u001B[0m \u001B[0mlen\u001B[0m\u001B[0;34m(\u001B[0m\u001B[0mscores\u001B[0m\u001B[0;34m)\u001B[0m\u001B[0;34m)\u001B[0m\u001B[0;34m\u001B[0m\u001B[0;34m\u001B[0m\u001B[0m\n\u001B[0;32m---> 66\u001B[0;31m     \u001B[0mprint\u001B[0m\u001B[0;34m(\u001B[0m\u001B[0;34m\"Average mIoU\"\u001B[0m\u001B[0;34m,\u001B[0m \u001B[0mmean\u001B[0m\u001B[0;34m(\u001B[0m\u001B[0mscores\u001B[0m\u001B[0;34m)\u001B[0m\u001B[0;34m)\u001B[0m\u001B[0;34m\u001B[0m\u001B[0;34m\u001B[0m\u001B[0m\n\u001B[0m\u001B[1;32m     67\u001B[0m     \u001B[0;32mreturn\u001B[0m \u001B[0mmean\u001B[0m\u001B[0;34m(\u001B[0m\u001B[0mscores\u001B[0m\u001B[0;34m)\u001B[0m\u001B[0;34m\u001B[0m\u001B[0;34m\u001B[0m\u001B[0m\n\u001B[1;32m     68\u001B[0m \u001B[0;34m\u001B[0m\u001B[0m\n",
      "\u001B[0;32m/usr/lib/python3.7/statistics.py\u001B[0m in \u001B[0;36mmean\u001B[0;34m(data)\u001B[0m\n\u001B[1;32m    308\u001B[0m     \u001B[0mn\u001B[0m \u001B[0;34m=\u001B[0m \u001B[0mlen\u001B[0m\u001B[0;34m(\u001B[0m\u001B[0mdata\u001B[0m\u001B[0;34m)\u001B[0m\u001B[0;34m\u001B[0m\u001B[0;34m\u001B[0m\u001B[0m\n\u001B[1;32m    309\u001B[0m     \u001B[0;32mif\u001B[0m \u001B[0mn\u001B[0m \u001B[0;34m<\u001B[0m \u001B[0;36m1\u001B[0m\u001B[0;34m:\u001B[0m\u001B[0;34m\u001B[0m\u001B[0;34m\u001B[0m\u001B[0m\n\u001B[0;32m--> 310\u001B[0;31m         \u001B[0;32mraise\u001B[0m \u001B[0mStatisticsError\u001B[0m\u001B[0;34m(\u001B[0m\u001B[0;34m'mean requires at least one data point'\u001B[0m\u001B[0;34m)\u001B[0m\u001B[0;34m\u001B[0m\u001B[0;34m\u001B[0m\u001B[0m\n\u001B[0m\u001B[1;32m    311\u001B[0m     \u001B[0mT\u001B[0m\u001B[0;34m,\u001B[0m \u001B[0mtotal\u001B[0m\u001B[0;34m,\u001B[0m \u001B[0mcount\u001B[0m \u001B[0;34m=\u001B[0m \u001B[0m_sum\u001B[0m\u001B[0;34m(\u001B[0m\u001B[0mdata\u001B[0m\u001B[0;34m)\u001B[0m\u001B[0;34m\u001B[0m\u001B[0;34m\u001B[0m\u001B[0m\n\u001B[1;32m    312\u001B[0m     \u001B[0;32massert\u001B[0m \u001B[0mcount\u001B[0m \u001B[0;34m==\u001B[0m \u001B[0mn\u001B[0m\u001B[0;34m\u001B[0m\u001B[0;34m\u001B[0m\u001B[0m\n",
      "\u001B[0;31mStatisticsError\u001B[0m: mean requires at least one data point"
     ]
    }
   ],
   "source": [
    "evaluateLabels([labels['office4'], labels['office5']],ds_office, maxTimeDiff=0.5)\n"
   ],
   "metadata": {
    "collapsed": false,
    "pycharm": {
     "name": "#%%\n"
    }
   }
  }
 ],
 "metadata": {
  "kernelspec": {
   "display_name": "Python 3",
   "language": "python",
   "name": "python3"
  },
  "language_info": {
   "codemirror_mode": {
    "name": "ipython",
    "version": 3
   },
   "file_extension": ".py",
   "mimetype": "text/x-python",
   "name": "python",
   "nbconvert_exporter": "python",
   "pygments_lexer": "ipython3",
   "version": "3.7.5"
  }
 },
 "nbformat": 4,
 "nbformat_minor": 4
}